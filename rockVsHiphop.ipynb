{
 "cells": [
  {
   "cell_type": "code",
   "execution_count": 1,
   "metadata": {},
   "outputs": [],
   "source": [
    "import pandas as pd\n",
    "import numpy as np\n",
    "from sklearn.metrics import accuracy_score\n",
    "from sklearn.model_selection import train_test_split\n",
    "from sklearn.tree import DecisionTreeClassifier"
   ]
  },
  {
   "cell_type": "code",
   "execution_count": 2,
   "metadata": {},
   "outputs": [],
   "source": [
    "dataset_csv = pd.read_csv('fma-rock-vs-hiphop.csv')\n",
    "dataset = pd.read_json('echonest-metrics.json', precise_float=True)"
   ]
  },
  {
   "cell_type": "code",
   "execution_count": 3,
   "metadata": {},
   "outputs": [
    {
     "data": {
      "text/html": [
       "<div>\n",
       "<style scoped>\n",
       "    .dataframe tbody tr th:only-of-type {\n",
       "        vertical-align: middle;\n",
       "    }\n",
       "\n",
       "    .dataframe tbody tr th {\n",
       "        vertical-align: top;\n",
       "    }\n",
       "\n",
       "    .dataframe thead th {\n",
       "        text-align: right;\n",
       "    }\n",
       "</style>\n",
       "<table border=\"1\" class=\"dataframe\">\n",
       "  <thead>\n",
       "    <tr style=\"text-align: right;\">\n",
       "      <th></th>\n",
       "      <th>track_id</th>\n",
       "      <th>bit_rate</th>\n",
       "      <th>comments</th>\n",
       "      <th>composer</th>\n",
       "      <th>date_created</th>\n",
       "      <th>date_recorded</th>\n",
       "      <th>duration</th>\n",
       "      <th>favorites</th>\n",
       "      <th>genre_top</th>\n",
       "      <th>genres</th>\n",
       "      <th>...</th>\n",
       "      <th>information</th>\n",
       "      <th>interest</th>\n",
       "      <th>language_code</th>\n",
       "      <th>license</th>\n",
       "      <th>listens</th>\n",
       "      <th>lyricist</th>\n",
       "      <th>number</th>\n",
       "      <th>publisher</th>\n",
       "      <th>tags</th>\n",
       "      <th>title</th>\n",
       "    </tr>\n",
       "  </thead>\n",
       "  <tbody>\n",
       "    <tr>\n",
       "      <th>0</th>\n",
       "      <td>135</td>\n",
       "      <td>256000</td>\n",
       "      <td>1</td>\n",
       "      <td>NaN</td>\n",
       "      <td>2008-11-26 01:43:26</td>\n",
       "      <td>2008-11-26 00:00:00</td>\n",
       "      <td>837</td>\n",
       "      <td>0</td>\n",
       "      <td>Rock</td>\n",
       "      <td>[45, 58]</td>\n",
       "      <td>...</td>\n",
       "      <td>NaN</td>\n",
       "      <td>2484</td>\n",
       "      <td>en</td>\n",
       "      <td>Attribution-NonCommercial-ShareAlike 3.0 Inter...</td>\n",
       "      <td>1832</td>\n",
       "      <td>NaN</td>\n",
       "      <td>0</td>\n",
       "      <td>NaN</td>\n",
       "      <td>[]</td>\n",
       "      <td>Father's Day</td>\n",
       "    </tr>\n",
       "    <tr>\n",
       "      <th>1</th>\n",
       "      <td>136</td>\n",
       "      <td>256000</td>\n",
       "      <td>1</td>\n",
       "      <td>NaN</td>\n",
       "      <td>2008-11-26 01:43:35</td>\n",
       "      <td>2008-11-26 00:00:00</td>\n",
       "      <td>509</td>\n",
       "      <td>0</td>\n",
       "      <td>Rock</td>\n",
       "      <td>[45, 58]</td>\n",
       "      <td>...</td>\n",
       "      <td>NaN</td>\n",
       "      <td>1948</td>\n",
       "      <td>en</td>\n",
       "      <td>Attribution-NonCommercial-ShareAlike 3.0 Inter...</td>\n",
       "      <td>1498</td>\n",
       "      <td>NaN</td>\n",
       "      <td>0</td>\n",
       "      <td>NaN</td>\n",
       "      <td>[]</td>\n",
       "      <td>Peel Back The Mountain Sky</td>\n",
       "    </tr>\n",
       "    <tr>\n",
       "      <th>2</th>\n",
       "      <td>151</td>\n",
       "      <td>192000</td>\n",
       "      <td>0</td>\n",
       "      <td>NaN</td>\n",
       "      <td>2008-11-26 01:44:55</td>\n",
       "      <td>NaN</td>\n",
       "      <td>192</td>\n",
       "      <td>0</td>\n",
       "      <td>Rock</td>\n",
       "      <td>[25]</td>\n",
       "      <td>...</td>\n",
       "      <td>NaN</td>\n",
       "      <td>701</td>\n",
       "      <td>en</td>\n",
       "      <td>Attribution-NonCommercial-ShareAlike 3.0 Inter...</td>\n",
       "      <td>148</td>\n",
       "      <td>NaN</td>\n",
       "      <td>4</td>\n",
       "      <td>NaN</td>\n",
       "      <td>[]</td>\n",
       "      <td>Untitled 04</td>\n",
       "    </tr>\n",
       "    <tr>\n",
       "      <th>3</th>\n",
       "      <td>152</td>\n",
       "      <td>192000</td>\n",
       "      <td>0</td>\n",
       "      <td>NaN</td>\n",
       "      <td>2008-11-26 01:44:58</td>\n",
       "      <td>NaN</td>\n",
       "      <td>193</td>\n",
       "      <td>0</td>\n",
       "      <td>Rock</td>\n",
       "      <td>[25]</td>\n",
       "      <td>...</td>\n",
       "      <td>NaN</td>\n",
       "      <td>637</td>\n",
       "      <td>en</td>\n",
       "      <td>Attribution-NonCommercial-ShareAlike 3.0 Inter...</td>\n",
       "      <td>98</td>\n",
       "      <td>NaN</td>\n",
       "      <td>11</td>\n",
       "      <td>NaN</td>\n",
       "      <td>[]</td>\n",
       "      <td>Untitled 11</td>\n",
       "    </tr>\n",
       "    <tr>\n",
       "      <th>4</th>\n",
       "      <td>153</td>\n",
       "      <td>256000</td>\n",
       "      <td>0</td>\n",
       "      <td>Arc and Sender</td>\n",
       "      <td>2008-11-26 01:45:00</td>\n",
       "      <td>2008-11-26 00:00:00</td>\n",
       "      <td>405</td>\n",
       "      <td>5</td>\n",
       "      <td>Rock</td>\n",
       "      <td>[26]</td>\n",
       "      <td>...</td>\n",
       "      <td>NaN</td>\n",
       "      <td>354</td>\n",
       "      <td>en</td>\n",
       "      <td>Attribution-NonCommercial-NoDerivatives (aka M...</td>\n",
       "      <td>424</td>\n",
       "      <td>NaN</td>\n",
       "      <td>2</td>\n",
       "      <td>NaN</td>\n",
       "      <td>[]</td>\n",
       "      <td>Hundred-Year Flood</td>\n",
       "    </tr>\n",
       "  </tbody>\n",
       "</table>\n",
       "<p>5 rows × 21 columns</p>\n",
       "</div>"
      ],
      "text/plain": [
       "   track_id  bit_rate  comments        composer         date_created  \\\n",
       "0       135    256000         1             NaN  2008-11-26 01:43:26   \n",
       "1       136    256000         1             NaN  2008-11-26 01:43:35   \n",
       "2       151    192000         0             NaN  2008-11-26 01:44:55   \n",
       "3       152    192000         0             NaN  2008-11-26 01:44:58   \n",
       "4       153    256000         0  Arc and Sender  2008-11-26 01:45:00   \n",
       "\n",
       "         date_recorded  duration  favorites genre_top    genres  ...  \\\n",
       "0  2008-11-26 00:00:00       837          0      Rock  [45, 58]  ...   \n",
       "1  2008-11-26 00:00:00       509          0      Rock  [45, 58]  ...   \n",
       "2                  NaN       192          0      Rock      [25]  ...   \n",
       "3                  NaN       193          0      Rock      [25]  ...   \n",
       "4  2008-11-26 00:00:00       405          5      Rock      [26]  ...   \n",
       "\n",
       "  information interest  language_code  \\\n",
       "0         NaN     2484             en   \n",
       "1         NaN     1948             en   \n",
       "2         NaN      701             en   \n",
       "3         NaN      637             en   \n",
       "4         NaN      354             en   \n",
       "\n",
       "                                             license listens  lyricist number  \\\n",
       "0  Attribution-NonCommercial-ShareAlike 3.0 Inter...    1832       NaN      0   \n",
       "1  Attribution-NonCommercial-ShareAlike 3.0 Inter...    1498       NaN      0   \n",
       "2  Attribution-NonCommercial-ShareAlike 3.0 Inter...     148       NaN      4   \n",
       "3  Attribution-NonCommercial-ShareAlike 3.0 Inter...      98       NaN     11   \n",
       "4  Attribution-NonCommercial-NoDerivatives (aka M...     424       NaN      2   \n",
       "\n",
       "   publisher tags                       title  \n",
       "0        NaN   []                Father's Day  \n",
       "1        NaN   []  Peel Back The Mountain Sky  \n",
       "2        NaN   []                 Untitled 04  \n",
       "3        NaN   []                 Untitled 11  \n",
       "4        NaN   []          Hundred-Year Flood  \n",
       "\n",
       "[5 rows x 21 columns]"
      ]
     },
     "execution_count": 3,
     "metadata": {},
     "output_type": "execute_result"
    }
   ],
   "source": [
    "dataset_csv.head()"
   ]
  },
  {
   "cell_type": "code",
   "execution_count": 4,
   "metadata": {},
   "outputs": [
    {
     "data": {
      "text/html": [
       "<div>\n",
       "<style scoped>\n",
       "    .dataframe tbody tr th:only-of-type {\n",
       "        vertical-align: middle;\n",
       "    }\n",
       "\n",
       "    .dataframe tbody tr th {\n",
       "        vertical-align: top;\n",
       "    }\n",
       "\n",
       "    .dataframe thead th {\n",
       "        text-align: right;\n",
       "    }\n",
       "</style>\n",
       "<table border=\"1\" class=\"dataframe\">\n",
       "  <thead>\n",
       "    <tr style=\"text-align: right;\">\n",
       "      <th></th>\n",
       "      <th>track_id</th>\n",
       "      <th>acousticness</th>\n",
       "      <th>danceability</th>\n",
       "      <th>energy</th>\n",
       "      <th>instrumentalness</th>\n",
       "      <th>liveness</th>\n",
       "      <th>speechiness</th>\n",
       "      <th>tempo</th>\n",
       "      <th>valence</th>\n",
       "    </tr>\n",
       "  </thead>\n",
       "  <tbody>\n",
       "    <tr>\n",
       "      <th>0</th>\n",
       "      <td>2</td>\n",
       "      <td>0.416675</td>\n",
       "      <td>0.675894</td>\n",
       "      <td>0.634476</td>\n",
       "      <td>0.010628</td>\n",
       "      <td>0.177647</td>\n",
       "      <td>0.159310</td>\n",
       "      <td>165.922</td>\n",
       "      <td>0.576661</td>\n",
       "    </tr>\n",
       "    <tr>\n",
       "      <th>1</th>\n",
       "      <td>3</td>\n",
       "      <td>0.374408</td>\n",
       "      <td>0.528643</td>\n",
       "      <td>0.817461</td>\n",
       "      <td>0.001851</td>\n",
       "      <td>0.105880</td>\n",
       "      <td>0.461818</td>\n",
       "      <td>126.957</td>\n",
       "      <td>0.269240</td>\n",
       "    </tr>\n",
       "    <tr>\n",
       "      <th>10</th>\n",
       "      <td>145</td>\n",
       "      <td>0.235506</td>\n",
       "      <td>0.438672</td>\n",
       "      <td>0.487752</td>\n",
       "      <td>0.716122</td>\n",
       "      <td>0.070359</td>\n",
       "      <td>0.047298</td>\n",
       "      <td>120.790</td>\n",
       "      <td>0.650452</td>\n",
       "    </tr>\n",
       "    <tr>\n",
       "      <th>100</th>\n",
       "      <td>341</td>\n",
       "      <td>0.977282</td>\n",
       "      <td>0.468808</td>\n",
       "      <td>0.134975</td>\n",
       "      <td>0.687700</td>\n",
       "      <td>0.105381</td>\n",
       "      <td>0.073124</td>\n",
       "      <td>119.646</td>\n",
       "      <td>0.430707</td>\n",
       "    </tr>\n",
       "    <tr>\n",
       "      <th>1000</th>\n",
       "      <td>3457</td>\n",
       "      <td>0.081256</td>\n",
       "      <td>0.897197</td>\n",
       "      <td>0.367886</td>\n",
       "      <td>0.104474</td>\n",
       "      <td>0.085845</td>\n",
       "      <td>0.041271</td>\n",
       "      <td>100.744</td>\n",
       "      <td>0.749293</td>\n",
       "    </tr>\n",
       "  </tbody>\n",
       "</table>\n",
       "</div>"
      ],
      "text/plain": [
       "      track_id  acousticness  danceability    energy  instrumentalness  \\\n",
       "0            2      0.416675      0.675894  0.634476          0.010628   \n",
       "1            3      0.374408      0.528643  0.817461          0.001851   \n",
       "10         145      0.235506      0.438672  0.487752          0.716122   \n",
       "100        341      0.977282      0.468808  0.134975          0.687700   \n",
       "1000      3457      0.081256      0.897197  0.367886          0.104474   \n",
       "\n",
       "      liveness  speechiness    tempo   valence  \n",
       "0     0.177647     0.159310  165.922  0.576661  \n",
       "1     0.105880     0.461818  126.957  0.269240  \n",
       "10    0.070359     0.047298  120.790  0.650452  \n",
       "100   0.105381     0.073124  119.646  0.430707  \n",
       "1000  0.085845     0.041271  100.744  0.749293  "
      ]
     },
     "execution_count": 4,
     "metadata": {},
     "output_type": "execute_result"
    }
   ],
   "source": [
    "dataset.head()"
   ]
  },
  {
   "cell_type": "code",
   "execution_count": 5,
   "metadata": {},
   "outputs": [],
   "source": [
    "data = pd.merge(dataset, dataset_csv[[\"track_id\", \"genre_top\"]], on=\"track_id\")"
   ]
  },
  {
   "cell_type": "code",
   "execution_count": 6,
   "metadata": {},
   "outputs": [
    {
     "data": {
      "text/html": [
       "<div>\n",
       "<style scoped>\n",
       "    .dataframe tbody tr th:only-of-type {\n",
       "        vertical-align: middle;\n",
       "    }\n",
       "\n",
       "    .dataframe tbody tr th {\n",
       "        vertical-align: top;\n",
       "    }\n",
       "\n",
       "    .dataframe thead th {\n",
       "        text-align: right;\n",
       "    }\n",
       "</style>\n",
       "<table border=\"1\" class=\"dataframe\">\n",
       "  <thead>\n",
       "    <tr style=\"text-align: right;\">\n",
       "      <th></th>\n",
       "      <th>track_id</th>\n",
       "      <th>acousticness</th>\n",
       "      <th>danceability</th>\n",
       "      <th>energy</th>\n",
       "      <th>instrumentalness</th>\n",
       "      <th>liveness</th>\n",
       "      <th>speechiness</th>\n",
       "      <th>tempo</th>\n",
       "      <th>valence</th>\n",
       "      <th>genre_top</th>\n",
       "    </tr>\n",
       "  </thead>\n",
       "  <tbody>\n",
       "    <tr>\n",
       "      <th>0</th>\n",
       "      <td>2</td>\n",
       "      <td>0.416675</td>\n",
       "      <td>0.675894</td>\n",
       "      <td>0.634476</td>\n",
       "      <td>0.010628</td>\n",
       "      <td>0.177647</td>\n",
       "      <td>0.159310</td>\n",
       "      <td>165.922</td>\n",
       "      <td>0.576661</td>\n",
       "      <td>Hip-Hop</td>\n",
       "    </tr>\n",
       "    <tr>\n",
       "      <th>1</th>\n",
       "      <td>3</td>\n",
       "      <td>0.374408</td>\n",
       "      <td>0.528643</td>\n",
       "      <td>0.817461</td>\n",
       "      <td>0.001851</td>\n",
       "      <td>0.105880</td>\n",
       "      <td>0.461818</td>\n",
       "      <td>126.957</td>\n",
       "      <td>0.269240</td>\n",
       "      <td>Hip-Hop</td>\n",
       "    </tr>\n",
       "    <tr>\n",
       "      <th>2</th>\n",
       "      <td>341</td>\n",
       "      <td>0.977282</td>\n",
       "      <td>0.468808</td>\n",
       "      <td>0.134975</td>\n",
       "      <td>0.687700</td>\n",
       "      <td>0.105381</td>\n",
       "      <td>0.073124</td>\n",
       "      <td>119.646</td>\n",
       "      <td>0.430707</td>\n",
       "      <td>Rock</td>\n",
       "    </tr>\n",
       "    <tr>\n",
       "      <th>3</th>\n",
       "      <td>46204</td>\n",
       "      <td>0.953349</td>\n",
       "      <td>0.498525</td>\n",
       "      <td>0.552503</td>\n",
       "      <td>0.924391</td>\n",
       "      <td>0.684914</td>\n",
       "      <td>0.028885</td>\n",
       "      <td>78.958</td>\n",
       "      <td>0.430448</td>\n",
       "      <td>Rock</td>\n",
       "    </tr>\n",
       "    <tr>\n",
       "      <th>4</th>\n",
       "      <td>46205</td>\n",
       "      <td>0.613229</td>\n",
       "      <td>0.500320</td>\n",
       "      <td>0.487992</td>\n",
       "      <td>0.936811</td>\n",
       "      <td>0.637750</td>\n",
       "      <td>0.030327</td>\n",
       "      <td>112.667</td>\n",
       "      <td>0.824749</td>\n",
       "      <td>Rock</td>\n",
       "    </tr>\n",
       "  </tbody>\n",
       "</table>\n",
       "</div>"
      ],
      "text/plain": [
       "   track_id  acousticness  danceability    energy  instrumentalness  liveness  \\\n",
       "0         2      0.416675      0.675894  0.634476          0.010628  0.177647   \n",
       "1         3      0.374408      0.528643  0.817461          0.001851  0.105880   \n",
       "2       341      0.977282      0.468808  0.134975          0.687700  0.105381   \n",
       "3     46204      0.953349      0.498525  0.552503          0.924391  0.684914   \n",
       "4     46205      0.613229      0.500320  0.487992          0.936811  0.637750   \n",
       "\n",
       "   speechiness    tempo   valence genre_top  \n",
       "0     0.159310  165.922  0.576661   Hip-Hop  \n",
       "1     0.461818  126.957  0.269240   Hip-Hop  \n",
       "2     0.073124  119.646  0.430707      Rock  \n",
       "3     0.028885   78.958  0.430448      Rock  \n",
       "4     0.030327  112.667  0.824749      Rock  "
      ]
     },
     "execution_count": 6,
     "metadata": {},
     "output_type": "execute_result"
    }
   ],
   "source": [
    "data.head()"
   ]
  },
  {
   "cell_type": "code",
   "execution_count": 7,
   "metadata": {},
   "outputs": [],
   "source": [
    "id = {\"Hip-Hop\" : 0, \n",
    "     \"Rock\": 1}"
   ]
  },
  {
   "cell_type": "code",
   "execution_count": 8,
   "metadata": {},
   "outputs": [
    {
     "data": {
      "text/plain": [
       "track_id            False\n",
       "acousticness        False\n",
       "danceability        False\n",
       "energy              False\n",
       "instrumentalness    False\n",
       "liveness            False\n",
       "speechiness         False\n",
       "tempo               False\n",
       "valence             False\n",
       "genre_top           False\n",
       "dtype: bool"
      ]
     },
     "execution_count": 8,
     "metadata": {},
     "output_type": "execute_result"
    }
   ],
   "source": [
    "data.isnull().any()"
   ]
  },
  {
   "cell_type": "code",
   "execution_count": 9,
   "metadata": {},
   "outputs": [
    {
     "data": {
      "text/html": [
       "<div>\n",
       "<style scoped>\n",
       "    .dataframe tbody tr th:only-of-type {\n",
       "        vertical-align: middle;\n",
       "    }\n",
       "\n",
       "    .dataframe tbody tr th {\n",
       "        vertical-align: top;\n",
       "    }\n",
       "\n",
       "    .dataframe thead th {\n",
       "        text-align: right;\n",
       "    }\n",
       "</style>\n",
       "<table border=\"1\" class=\"dataframe\">\n",
       "  <thead>\n",
       "    <tr style=\"text-align: right;\">\n",
       "      <th></th>\n",
       "      <th>track_id</th>\n",
       "      <th>acousticness</th>\n",
       "      <th>danceability</th>\n",
       "      <th>energy</th>\n",
       "      <th>instrumentalness</th>\n",
       "      <th>liveness</th>\n",
       "      <th>speechiness</th>\n",
       "      <th>tempo</th>\n",
       "      <th>valence</th>\n",
       "      <th>genre_top</th>\n",
       "    </tr>\n",
       "  </thead>\n",
       "  <tbody>\n",
       "    <tr>\n",
       "      <th>0</th>\n",
       "      <td>2</td>\n",
       "      <td>0.416675</td>\n",
       "      <td>0.675894</td>\n",
       "      <td>0.634476</td>\n",
       "      <td>0.010628</td>\n",
       "      <td>0.177647</td>\n",
       "      <td>0.159310</td>\n",
       "      <td>165.922</td>\n",
       "      <td>0.576661</td>\n",
       "      <td>Hip-Hop</td>\n",
       "    </tr>\n",
       "    <tr>\n",
       "      <th>1</th>\n",
       "      <td>3</td>\n",
       "      <td>0.374408</td>\n",
       "      <td>0.528643</td>\n",
       "      <td>0.817461</td>\n",
       "      <td>0.001851</td>\n",
       "      <td>0.105880</td>\n",
       "      <td>0.461818</td>\n",
       "      <td>126.957</td>\n",
       "      <td>0.269240</td>\n",
       "      <td>Hip-Hop</td>\n",
       "    </tr>\n",
       "    <tr>\n",
       "      <th>2</th>\n",
       "      <td>341</td>\n",
       "      <td>0.977282</td>\n",
       "      <td>0.468808</td>\n",
       "      <td>0.134975</td>\n",
       "      <td>0.687700</td>\n",
       "      <td>0.105381</td>\n",
       "      <td>0.073124</td>\n",
       "      <td>119.646</td>\n",
       "      <td>0.430707</td>\n",
       "      <td>Rock</td>\n",
       "    </tr>\n",
       "    <tr>\n",
       "      <th>3</th>\n",
       "      <td>46204</td>\n",
       "      <td>0.953349</td>\n",
       "      <td>0.498525</td>\n",
       "      <td>0.552503</td>\n",
       "      <td>0.924391</td>\n",
       "      <td>0.684914</td>\n",
       "      <td>0.028885</td>\n",
       "      <td>78.958</td>\n",
       "      <td>0.430448</td>\n",
       "      <td>Rock</td>\n",
       "    </tr>\n",
       "    <tr>\n",
       "      <th>4</th>\n",
       "      <td>46205</td>\n",
       "      <td>0.613229</td>\n",
       "      <td>0.500320</td>\n",
       "      <td>0.487992</td>\n",
       "      <td>0.936811</td>\n",
       "      <td>0.637750</td>\n",
       "      <td>0.030327</td>\n",
       "      <td>112.667</td>\n",
       "      <td>0.824749</td>\n",
       "      <td>Rock</td>\n",
       "    </tr>\n",
       "  </tbody>\n",
       "</table>\n",
       "</div>"
      ],
      "text/plain": [
       "   track_id  acousticness  danceability    energy  instrumentalness  liveness  \\\n",
       "0         2      0.416675      0.675894  0.634476          0.010628  0.177647   \n",
       "1         3      0.374408      0.528643  0.817461          0.001851  0.105880   \n",
       "2       341      0.977282      0.468808  0.134975          0.687700  0.105381   \n",
       "3     46204      0.953349      0.498525  0.552503          0.924391  0.684914   \n",
       "4     46205      0.613229      0.500320  0.487992          0.936811  0.637750   \n",
       "\n",
       "   speechiness    tempo   valence genre_top  \n",
       "0     0.159310  165.922  0.576661   Hip-Hop  \n",
       "1     0.461818  126.957  0.269240   Hip-Hop  \n",
       "2     0.073124  119.646  0.430707      Rock  \n",
       "3     0.028885   78.958  0.430448      Rock  \n",
       "4     0.030327  112.667  0.824749      Rock  "
      ]
     },
     "execution_count": 9,
     "metadata": {},
     "output_type": "execute_result"
    }
   ],
   "source": [
    "data.head()"
   ]
  },
  {
   "cell_type": "code",
   "execution_count": 10,
   "metadata": {},
   "outputs": [
    {
     "data": {
      "text/html": [
       "<div>\n",
       "<style scoped>\n",
       "    .dataframe tbody tr th:only-of-type {\n",
       "        vertical-align: middle;\n",
       "    }\n",
       "\n",
       "    .dataframe tbody tr th {\n",
       "        vertical-align: top;\n",
       "    }\n",
       "\n",
       "    .dataframe thead th {\n",
       "        text-align: right;\n",
       "    }\n",
       "</style>\n",
       "<table border=\"1\" class=\"dataframe\">\n",
       "  <thead>\n",
       "    <tr style=\"text-align: right;\">\n",
       "      <th></th>\n",
       "      <th>track_id</th>\n",
       "      <th>acousticness</th>\n",
       "      <th>danceability</th>\n",
       "      <th>energy</th>\n",
       "      <th>instrumentalness</th>\n",
       "      <th>liveness</th>\n",
       "      <th>speechiness</th>\n",
       "      <th>tempo</th>\n",
       "      <th>valence</th>\n",
       "      <th>genre_top</th>\n",
       "    </tr>\n",
       "  </thead>\n",
       "  <tbody>\n",
       "    <tr>\n",
       "      <th>0</th>\n",
       "      <td>2</td>\n",
       "      <td>0.416675</td>\n",
       "      <td>0.675894</td>\n",
       "      <td>0.634476</td>\n",
       "      <td>0.010628</td>\n",
       "      <td>0.177647</td>\n",
       "      <td>0.159310</td>\n",
       "      <td>165.922</td>\n",
       "      <td>0.576661</td>\n",
       "      <td>0</td>\n",
       "    </tr>\n",
       "    <tr>\n",
       "      <th>1</th>\n",
       "      <td>3</td>\n",
       "      <td>0.374408</td>\n",
       "      <td>0.528643</td>\n",
       "      <td>0.817461</td>\n",
       "      <td>0.001851</td>\n",
       "      <td>0.105880</td>\n",
       "      <td>0.461818</td>\n",
       "      <td>126.957</td>\n",
       "      <td>0.269240</td>\n",
       "      <td>0</td>\n",
       "    </tr>\n",
       "    <tr>\n",
       "      <th>2</th>\n",
       "      <td>341</td>\n",
       "      <td>0.977282</td>\n",
       "      <td>0.468808</td>\n",
       "      <td>0.134975</td>\n",
       "      <td>0.687700</td>\n",
       "      <td>0.105381</td>\n",
       "      <td>0.073124</td>\n",
       "      <td>119.646</td>\n",
       "      <td>0.430707</td>\n",
       "      <td>1</td>\n",
       "    </tr>\n",
       "    <tr>\n",
       "      <th>3</th>\n",
       "      <td>46204</td>\n",
       "      <td>0.953349</td>\n",
       "      <td>0.498525</td>\n",
       "      <td>0.552503</td>\n",
       "      <td>0.924391</td>\n",
       "      <td>0.684914</td>\n",
       "      <td>0.028885</td>\n",
       "      <td>78.958</td>\n",
       "      <td>0.430448</td>\n",
       "      <td>1</td>\n",
       "    </tr>\n",
       "    <tr>\n",
       "      <th>4</th>\n",
       "      <td>46205</td>\n",
       "      <td>0.613229</td>\n",
       "      <td>0.500320</td>\n",
       "      <td>0.487992</td>\n",
       "      <td>0.936811</td>\n",
       "      <td>0.637750</td>\n",
       "      <td>0.030327</td>\n",
       "      <td>112.667</td>\n",
       "      <td>0.824749</td>\n",
       "      <td>1</td>\n",
       "    </tr>\n",
       "  </tbody>\n",
       "</table>\n",
       "</div>"
      ],
      "text/plain": [
       "   track_id  acousticness  danceability    energy  instrumentalness  liveness  \\\n",
       "0         2      0.416675      0.675894  0.634476          0.010628  0.177647   \n",
       "1         3      0.374408      0.528643  0.817461          0.001851  0.105880   \n",
       "2       341      0.977282      0.468808  0.134975          0.687700  0.105381   \n",
       "3     46204      0.953349      0.498525  0.552503          0.924391  0.684914   \n",
       "4     46205      0.613229      0.500320  0.487992          0.936811  0.637750   \n",
       "\n",
       "   speechiness    tempo   valence  genre_top  \n",
       "0     0.159310  165.922  0.576661          0  \n",
       "1     0.461818  126.957  0.269240          0  \n",
       "2     0.073124  119.646  0.430707          1  \n",
       "3     0.028885   78.958  0.430448          1  \n",
       "4     0.030327  112.667  0.824749          1  "
      ]
     },
     "execution_count": 10,
     "metadata": {},
     "output_type": "execute_result"
    }
   ],
   "source": [
    "nums = {\"genre_top\": {\"Hip-Hop\": 0, \"Rock\": 1}}\n",
    "data = data.replace(nums)\n",
    "data.head()"
   ]
  },
  {
   "cell_type": "code",
   "execution_count": 11,
   "metadata": {},
   "outputs": [
    {
     "data": {
      "text/html": [
       "<style  type=\"text/css\" >\n",
       "    #T_05cc3e5e_5190_11eb_8f30_3ca067df7ae8row0_col0 {\n",
       "            background-color:  #023858;\n",
       "            color:  #f1f1f1;\n",
       "        }    #T_05cc3e5e_5190_11eb_8f30_3ca067df7ae8row0_col1 {\n",
       "            background-color:  #fff7fb;\n",
       "            color:  #000000;\n",
       "        }    #T_05cc3e5e_5190_11eb_8f30_3ca067df7ae8row0_col2 {\n",
       "            background-color:  #abbfdc;\n",
       "            color:  #000000;\n",
       "        }    #T_05cc3e5e_5190_11eb_8f30_3ca067df7ae8row0_col3 {\n",
       "            background-color:  #b5c4df;\n",
       "            color:  #000000;\n",
       "        }    #T_05cc3e5e_5190_11eb_8f30_3ca067df7ae8row0_col4 {\n",
       "            background-color:  #f5eef6;\n",
       "            color:  #000000;\n",
       "        }    #T_05cc3e5e_5190_11eb_8f30_3ca067df7ae8row0_col5 {\n",
       "            background-color:  #e9e5f1;\n",
       "            color:  #000000;\n",
       "        }    #T_05cc3e5e_5190_11eb_8f30_3ca067df7ae8row0_col6 {\n",
       "            background-color:  #bbc7e0;\n",
       "            color:  #000000;\n",
       "        }    #T_05cc3e5e_5190_11eb_8f30_3ca067df7ae8row0_col7 {\n",
       "            background-color:  #e1dfed;\n",
       "            color:  #000000;\n",
       "        }    #T_05cc3e5e_5190_11eb_8f30_3ca067df7ae8row0_col8 {\n",
       "            background-color:  #dad9ea;\n",
       "            color:  #000000;\n",
       "        }    #T_05cc3e5e_5190_11eb_8f30_3ca067df7ae8row0_col9 {\n",
       "            background-color:  #b5c4df;\n",
       "            color:  #000000;\n",
       "        }    #T_05cc3e5e_5190_11eb_8f30_3ca067df7ae8row1_col0 {\n",
       "            background-color:  #fff7fb;\n",
       "            color:  #000000;\n",
       "        }    #T_05cc3e5e_5190_11eb_8f30_3ca067df7ae8row1_col1 {\n",
       "            background-color:  #023858;\n",
       "            color:  #f1f1f1;\n",
       "        }    #T_05cc3e5e_5190_11eb_8f30_3ca067df7ae8row1_col2 {\n",
       "            background-color:  #bdc8e1;\n",
       "            color:  #000000;\n",
       "        }    #T_05cc3e5e_5190_11eb_8f30_3ca067df7ae8row1_col3 {\n",
       "            background-color:  #fff7fb;\n",
       "            color:  #000000;\n",
       "        }    #T_05cc3e5e_5190_11eb_8f30_3ca067df7ae8row1_col4 {\n",
       "            background-color:  #97b7d7;\n",
       "            color:  #000000;\n",
       "        }    #T_05cc3e5e_5190_11eb_8f30_3ca067df7ae8row1_col5 {\n",
       "            background-color:  #f3edf5;\n",
       "            color:  #000000;\n",
       "        }    #T_05cc3e5e_5190_11eb_8f30_3ca067df7ae8row1_col6 {\n",
       "            background-color:  #a4bcda;\n",
       "            color:  #000000;\n",
       "        }    #T_05cc3e5e_5190_11eb_8f30_3ca067df7ae8row1_col7 {\n",
       "            background-color:  #e1dfed;\n",
       "            color:  #000000;\n",
       "        }    #T_05cc3e5e_5190_11eb_8f30_3ca067df7ae8row1_col8 {\n",
       "            background-color:  #dfddec;\n",
       "            color:  #000000;\n",
       "        }    #T_05cc3e5e_5190_11eb_8f30_3ca067df7ae8row1_col9 {\n",
       "            background-color:  #9ebad9;\n",
       "            color:  #000000;\n",
       "        }    #T_05cc3e5e_5190_11eb_8f30_3ca067df7ae8row2_col0 {\n",
       "            background-color:  #bdc8e1;\n",
       "            color:  #000000;\n",
       "        }    #T_05cc3e5e_5190_11eb_8f30_3ca067df7ae8row2_col1 {\n",
       "            background-color:  #d0d1e6;\n",
       "            color:  #000000;\n",
       "        }    #T_05cc3e5e_5190_11eb_8f30_3ca067df7ae8row2_col2 {\n",
       "            background-color:  #023858;\n",
       "            color:  #f1f1f1;\n",
       "        }    #T_05cc3e5e_5190_11eb_8f30_3ca067df7ae8row2_col3 {\n",
       "            background-color:  #fbf3f9;\n",
       "            color:  #000000;\n",
       "        }    #T_05cc3e5e_5190_11eb_8f30_3ca067df7ae8row2_col4 {\n",
       "            background-color:  #f3edf5;\n",
       "            color:  #000000;\n",
       "        }    #T_05cc3e5e_5190_11eb_8f30_3ca067df7ae8row2_col5 {\n",
       "            background-color:  #fff7fb;\n",
       "            color:  #000000;\n",
       "        }    #T_05cc3e5e_5190_11eb_8f30_3ca067df7ae8row2_col6 {\n",
       "            background-color:  #6ba5cd;\n",
       "            color:  #000000;\n",
       "        }    #T_05cc3e5e_5190_11eb_8f30_3ca067df7ae8row2_col7 {\n",
       "            background-color:  #fff7fb;\n",
       "            color:  #000000;\n",
       "        }    #T_05cc3e5e_5190_11eb_8f30_3ca067df7ae8row2_col8 {\n",
       "            background-color:  #4e9ac6;\n",
       "            color:  #000000;\n",
       "        }    #T_05cc3e5e_5190_11eb_8f30_3ca067df7ae8row2_col9 {\n",
       "            background-color:  #fef6fa;\n",
       "            color:  #000000;\n",
       "        }    #T_05cc3e5e_5190_11eb_8f30_3ca067df7ae8row3_col0 {\n",
       "            background-color:  #a7bddb;\n",
       "            color:  #000000;\n",
       "        }    #T_05cc3e5e_5190_11eb_8f30_3ca067df7ae8row3_col1 {\n",
       "            background-color:  #f5eff6;\n",
       "            color:  #000000;\n",
       "        }    #T_05cc3e5e_5190_11eb_8f30_3ca067df7ae8row3_col2 {\n",
       "            background-color:  #e4e1ef;\n",
       "            color:  #000000;\n",
       "        }    #T_05cc3e5e_5190_11eb_8f30_3ca067df7ae8row3_col3 {\n",
       "            background-color:  #023858;\n",
       "            color:  #f1f1f1;\n",
       "        }    #T_05cc3e5e_5190_11eb_8f30_3ca067df7ae8row3_col4 {\n",
       "            background-color:  #c4cbe3;\n",
       "            color:  #000000;\n",
       "        }    #T_05cc3e5e_5190_11eb_8f30_3ca067df7ae8row3_col5 {\n",
       "            background-color:  #dcdaeb;\n",
       "            color:  #000000;\n",
       "        }    #T_05cc3e5e_5190_11eb_8f30_3ca067df7ae8row3_col6 {\n",
       "            background-color:  #cdd0e5;\n",
       "            color:  #000000;\n",
       "        }    #T_05cc3e5e_5190_11eb_8f30_3ca067df7ae8row3_col7 {\n",
       "            background-color:  #adc1dd;\n",
       "            color:  #000000;\n",
       "        }    #T_05cc3e5e_5190_11eb_8f30_3ca067df7ae8row3_col8 {\n",
       "            background-color:  #d5d5e8;\n",
       "            color:  #000000;\n",
       "        }    #T_05cc3e5e_5190_11eb_8f30_3ca067df7ae8row3_col9 {\n",
       "            background-color:  #96b6d7;\n",
       "            color:  #000000;\n",
       "        }    #T_05cc3e5e_5190_11eb_8f30_3ca067df7ae8row4_col0 {\n",
       "            background-color:  #f4eef6;\n",
       "            color:  #000000;\n",
       "        }    #T_05cc3e5e_5190_11eb_8f30_3ca067df7ae8row4_col1 {\n",
       "            background-color:  #97b7d7;\n",
       "            color:  #000000;\n",
       "        }    #T_05cc3e5e_5190_11eb_8f30_3ca067df7ae8row4_col2 {\n",
       "            background-color:  #e6e2ef;\n",
       "            color:  #000000;\n",
       "        }    #T_05cc3e5e_5190_11eb_8f30_3ca067df7ae8row4_col3 {\n",
       "            background-color:  #d2d3e7;\n",
       "            color:  #000000;\n",
       "        }    #T_05cc3e5e_5190_11eb_8f30_3ca067df7ae8row4_col4 {\n",
       "            background-color:  #023858;\n",
       "            color:  #f1f1f1;\n",
       "        }    #T_05cc3e5e_5190_11eb_8f30_3ca067df7ae8row4_col5 {\n",
       "            background-color:  #fdf5fa;\n",
       "            color:  #000000;\n",
       "        }    #T_05cc3e5e_5190_11eb_8f30_3ca067df7ae8row4_col6 {\n",
       "            background-color:  #f2ecf5;\n",
       "            color:  #000000;\n",
       "        }    #T_05cc3e5e_5190_11eb_8f30_3ca067df7ae8row4_col7 {\n",
       "            background-color:  #d9d8ea;\n",
       "            color:  #000000;\n",
       "        }    #T_05cc3e5e_5190_11eb_8f30_3ca067df7ae8row4_col8 {\n",
       "            background-color:  #fcf4fa;\n",
       "            color:  #000000;\n",
       "        }    #T_05cc3e5e_5190_11eb_8f30_3ca067df7ae8row4_col9 {\n",
       "            background-color:  #5c9fc9;\n",
       "            color:  #000000;\n",
       "        }    #T_05cc3e5e_5190_11eb_8f30_3ca067df7ae8row5_col0 {\n",
       "            background-color:  #bdc8e1;\n",
       "            color:  #000000;\n",
       "        }    #T_05cc3e5e_5190_11eb_8f30_3ca067df7ae8row5_col1 {\n",
       "            background-color:  #ced0e6;\n",
       "            color:  #000000;\n",
       "        }    #T_05cc3e5e_5190_11eb_8f30_3ca067df7ae8row5_col2 {\n",
       "            background-color:  #ced0e6;\n",
       "            color:  #000000;\n",
       "        }    #T_05cc3e5e_5190_11eb_8f30_3ca067df7ae8row5_col3 {\n",
       "            background-color:  #bdc8e1;\n",
       "            color:  #000000;\n",
       "        }    #T_05cc3e5e_5190_11eb_8f30_3ca067df7ae8row5_col4 {\n",
       "            background-color:  #dbdaeb;\n",
       "            color:  #000000;\n",
       "        }    #T_05cc3e5e_5190_11eb_8f30_3ca067df7ae8row5_col5 {\n",
       "            background-color:  #023858;\n",
       "            color:  #f1f1f1;\n",
       "        }    #T_05cc3e5e_5190_11eb_8f30_3ca067df7ae8row5_col6 {\n",
       "            background-color:  #acc0dd;\n",
       "            color:  #000000;\n",
       "        }    #T_05cc3e5e_5190_11eb_8f30_3ca067df7ae8row5_col7 {\n",
       "            background-color:  #dcdaeb;\n",
       "            color:  #000000;\n",
       "        }    #T_05cc3e5e_5190_11eb_8f30_3ca067df7ae8row5_col8 {\n",
       "            background-color:  #e4e1ef;\n",
       "            color:  #000000;\n",
       "        }    #T_05cc3e5e_5190_11eb_8f30_3ca067df7ae8row5_col9 {\n",
       "            background-color:  #b7c5df;\n",
       "            color:  #000000;\n",
       "        }    #T_05cc3e5e_5190_11eb_8f30_3ca067df7ae8row6_col0 {\n",
       "            background-color:  #d0d1e6;\n",
       "            color:  #000000;\n",
       "        }    #T_05cc3e5e_5190_11eb_8f30_3ca067df7ae8row6_col1 {\n",
       "            background-color:  #b8c6e0;\n",
       "            color:  #000000;\n",
       "        }    #T_05cc3e5e_5190_11eb_8f30_3ca067df7ae8row6_col2 {\n",
       "            background-color:  #6da6cd;\n",
       "            color:  #000000;\n",
       "        }    #T_05cc3e5e_5190_11eb_8f30_3ca067df7ae8row6_col3 {\n",
       "            background-color:  #eae6f1;\n",
       "            color:  #000000;\n",
       "        }    #T_05cc3e5e_5190_11eb_8f30_3ca067df7ae8row6_col4 {\n",
       "            background-color:  #fff7fb;\n",
       "            color:  #000000;\n",
       "        }    #T_05cc3e5e_5190_11eb_8f30_3ca067df7ae8row6_col5 {\n",
       "            background-color:  #eae6f1;\n",
       "            color:  #000000;\n",
       "        }    #T_05cc3e5e_5190_11eb_8f30_3ca067df7ae8row6_col6 {\n",
       "            background-color:  #023858;\n",
       "            color:  #f1f1f1;\n",
       "        }    #T_05cc3e5e_5190_11eb_8f30_3ca067df7ae8row6_col7 {\n",
       "            background-color:  #dbdaeb;\n",
       "            color:  #000000;\n",
       "        }    #T_05cc3e5e_5190_11eb_8f30_3ca067df7ae8row6_col8 {\n",
       "            background-color:  #b9c6e0;\n",
       "            color:  #000000;\n",
       "        }    #T_05cc3e5e_5190_11eb_8f30_3ca067df7ae8row6_col9 {\n",
       "            background-color:  #fff7fb;\n",
       "            color:  #000000;\n",
       "        }    #T_05cc3e5e_5190_11eb_8f30_3ca067df7ae8row7_col0 {\n",
       "            background-color:  #d0d1e6;\n",
       "            color:  #000000;\n",
       "        }    #T_05cc3e5e_5190_11eb_8f30_3ca067df7ae8row7_col1 {\n",
       "            background-color:  #d0d1e6;\n",
       "            color:  #000000;\n",
       "        }    #T_05cc3e5e_5190_11eb_8f30_3ca067df7ae8row7_col2 {\n",
       "            background-color:  #e4e1ef;\n",
       "            color:  #000000;\n",
       "        }    #T_05cc3e5e_5190_11eb_8f30_3ca067df7ae8row7_col3 {\n",
       "            background-color:  #a7bddb;\n",
       "            color:  #000000;\n",
       "        }    #T_05cc3e5e_5190_11eb_8f30_3ca067df7ae8row7_col4 {\n",
       "            background-color:  #c5cce3;\n",
       "            color:  #000000;\n",
       "        }    #T_05cc3e5e_5190_11eb_8f30_3ca067df7ae8row7_col5 {\n",
       "            background-color:  #f0eaf4;\n",
       "            color:  #000000;\n",
       "        }    #T_05cc3e5e_5190_11eb_8f30_3ca067df7ae8row7_col6 {\n",
       "            background-color:  #b3c3de;\n",
       "            color:  #000000;\n",
       "        }    #T_05cc3e5e_5190_11eb_8f30_3ca067df7ae8row7_col7 {\n",
       "            background-color:  #023858;\n",
       "            color:  #f1f1f1;\n",
       "        }    #T_05cc3e5e_5190_11eb_8f30_3ca067df7ae8row7_col8 {\n",
       "            background-color:  #d2d3e7;\n",
       "            color:  #000000;\n",
       "        }    #T_05cc3e5e_5190_11eb_8f30_3ca067df7ae8row7_col9 {\n",
       "            background-color:  #99b8d8;\n",
       "            color:  #000000;\n",
       "        }    #T_05cc3e5e_5190_11eb_8f30_3ca067df7ae8row8_col0 {\n",
       "            background-color:  #c6cce3;\n",
       "            color:  #000000;\n",
       "        }    #T_05cc3e5e_5190_11eb_8f30_3ca067df7ae8row8_col1 {\n",
       "            background-color:  #cdd0e5;\n",
       "            color:  #000000;\n",
       "        }    #T_05cc3e5e_5190_11eb_8f30_3ca067df7ae8row8_col2 {\n",
       "            background-color:  #2d8abd;\n",
       "            color:  #000000;\n",
       "        }    #T_05cc3e5e_5190_11eb_8f30_3ca067df7ae8row8_col3 {\n",
       "            background-color:  #d1d2e6;\n",
       "            color:  #000000;\n",
       "        }    #T_05cc3e5e_5190_11eb_8f30_3ca067df7ae8row8_col4 {\n",
       "            background-color:  #efe9f3;\n",
       "            color:  #000000;\n",
       "        }    #T_05cc3e5e_5190_11eb_8f30_3ca067df7ae8row8_col5 {\n",
       "            background-color:  #f7f0f7;\n",
       "            color:  #000000;\n",
       "        }    #T_05cc3e5e_5190_11eb_8f30_3ca067df7ae8row8_col6 {\n",
       "            background-color:  #8fb4d6;\n",
       "            color:  #000000;\n",
       "        }    #T_05cc3e5e_5190_11eb_8f30_3ca067df7ae8row8_col7 {\n",
       "            background-color:  #d3d4e7;\n",
       "            color:  #000000;\n",
       "        }    #T_05cc3e5e_5190_11eb_8f30_3ca067df7ae8row8_col8 {\n",
       "            background-color:  #023858;\n",
       "            color:  #f1f1f1;\n",
       "        }    #T_05cc3e5e_5190_11eb_8f30_3ca067df7ae8row8_col9 {\n",
       "            background-color:  #e3e0ee;\n",
       "            color:  #000000;\n",
       "        }    #T_05cc3e5e_5190_11eb_8f30_3ca067df7ae8row9_col0 {\n",
       "            background-color:  #cacee5;\n",
       "            color:  #000000;\n",
       "        }    #T_05cc3e5e_5190_11eb_8f30_3ca067df7ae8row9_col1 {\n",
       "            background-color:  #b1c2de;\n",
       "            color:  #000000;\n",
       "        }    #T_05cc3e5e_5190_11eb_8f30_3ca067df7ae8row9_col2 {\n",
       "            background-color:  #fff7fb;\n",
       "            color:  #000000;\n",
       "        }    #T_05cc3e5e_5190_11eb_8f30_3ca067df7ae8row9_col3 {\n",
       "            background-color:  #b9c6e0;\n",
       "            color:  #000000;\n",
       "        }    #T_05cc3e5e_5190_11eb_8f30_3ca067df7ae8row9_col4 {\n",
       "            background-color:  #71a8ce;\n",
       "            color:  #000000;\n",
       "        }    #T_05cc3e5e_5190_11eb_8f30_3ca067df7ae8row9_col5 {\n",
       "            background-color:  #f1ebf5;\n",
       "            color:  #000000;\n",
       "        }    #T_05cc3e5e_5190_11eb_8f30_3ca067df7ae8row9_col6 {\n",
       "            background-color:  #fff7fb;\n",
       "            color:  #000000;\n",
       "        }    #T_05cc3e5e_5190_11eb_8f30_3ca067df7ae8row9_col7 {\n",
       "            background-color:  #c4cbe3;\n",
       "            color:  #000000;\n",
       "        }    #T_05cc3e5e_5190_11eb_8f30_3ca067df7ae8row9_col8 {\n",
       "            background-color:  #fff7fb;\n",
       "            color:  #000000;\n",
       "        }    #T_05cc3e5e_5190_11eb_8f30_3ca067df7ae8row9_col9 {\n",
       "            background-color:  #023858;\n",
       "            color:  #f1f1f1;\n",
       "        }</style><table id=\"T_05cc3e5e_5190_11eb_8f30_3ca067df7ae8\" ><thead>    <tr>        <th class=\"blank level0\" ></th>        <th class=\"col_heading level0 col0\" >track_id</th>        <th class=\"col_heading level0 col1\" >acousticness</th>        <th class=\"col_heading level0 col2\" >danceability</th>        <th class=\"col_heading level0 col3\" >energy</th>        <th class=\"col_heading level0 col4\" >instrumentalness</th>        <th class=\"col_heading level0 col5\" >liveness</th>        <th class=\"col_heading level0 col6\" >speechiness</th>        <th class=\"col_heading level0 col7\" >tempo</th>        <th class=\"col_heading level0 col8\" >valence</th>        <th class=\"col_heading level0 col9\" >genre_top</th>    </tr></thead><tbody>\n",
       "                <tr>\n",
       "                        <th id=\"T_05cc3e5e_5190_11eb_8f30_3ca067df7ae8level0_row0\" class=\"row_heading level0 row0\" >track_id</th>\n",
       "                        <td id=\"T_05cc3e5e_5190_11eb_8f30_3ca067df7ae8row0_col0\" class=\"data row0 col0\" >1</td>\n",
       "                        <td id=\"T_05cc3e5e_5190_11eb_8f30_3ca067df7ae8row0_col1\" class=\"data row0 col1\" >-0.372282</td>\n",
       "                        <td id=\"T_05cc3e5e_5190_11eb_8f30_3ca067df7ae8row0_col2\" class=\"data row0 col2\" >0.0494541</td>\n",
       "                        <td id=\"T_05cc3e5e_5190_11eb_8f30_3ca067df7ae8row0_col3\" class=\"data row0 col3\" >0.140703</td>\n",
       "                        <td id=\"T_05cc3e5e_5190_11eb_8f30_3ca067df7ae8row0_col4\" class=\"data row0 col4\" >-0.275623</td>\n",
       "                        <td id=\"T_05cc3e5e_5190_11eb_8f30_3ca067df7ae8row0_col5\" class=\"data row0 col5\" >0.0482307</td>\n",
       "                        <td id=\"T_05cc3e5e_5190_11eb_8f30_3ca067df7ae8row0_col6\" class=\"data row0 col6\" >-0.0269951</td>\n",
       "                        <td id=\"T_05cc3e5e_5190_11eb_8f30_3ca067df7ae8row0_col7\" class=\"data row0 col7\" >-0.0253918</td>\n",
       "                        <td id=\"T_05cc3e5e_5190_11eb_8f30_3ca067df7ae8row0_col8\" class=\"data row0 col8\" >0.0100698</td>\n",
       "                        <td id=\"T_05cc3e5e_5190_11eb_8f30_3ca067df7ae8row0_col9\" class=\"data row0 col9\" >-0.00462409</td>\n",
       "            </tr>\n",
       "            <tr>\n",
       "                        <th id=\"T_05cc3e5e_5190_11eb_8f30_3ca067df7ae8level0_row1\" class=\"row_heading level0 row1\" >acousticness</th>\n",
       "                        <td id=\"T_05cc3e5e_5190_11eb_8f30_3ca067df7ae8row1_col0\" class=\"data row1 col0\" >-0.372282</td>\n",
       "                        <td id=\"T_05cc3e5e_5190_11eb_8f30_3ca067df7ae8row1_col1\" class=\"data row1 col1\" >1</td>\n",
       "                        <td id=\"T_05cc3e5e_5190_11eb_8f30_3ca067df7ae8row1_col2\" class=\"data row1 col2\" >-0.0289537</td>\n",
       "                        <td id=\"T_05cc3e5e_5190_11eb_8f30_3ca067df7ae8row1_col3\" class=\"data row1 col3\" >-0.281619</td>\n",
       "                        <td id=\"T_05cc3e5e_5190_11eb_8f30_3ca067df7ae8row1_col4\" class=\"data row1 col4\" >0.19478</td>\n",
       "                        <td id=\"T_05cc3e5e_5190_11eb_8f30_3ca067df7ae8row1_col5\" class=\"data row1 col5\" >-0.0199914</td>\n",
       "                        <td id=\"T_05cc3e5e_5190_11eb_8f30_3ca067df7ae8row1_col6\" class=\"data row1 col6\" >0.072204</td>\n",
       "                        <td id=\"T_05cc3e5e_5190_11eb_8f30_3ca067df7ae8row1_col7\" class=\"data row1 col7\" >-0.0263097</td>\n",
       "                        <td id=\"T_05cc3e5e_5190_11eb_8f30_3ca067df7ae8row1_col8\" class=\"data row1 col8\" >-0.0138406</td>\n",
       "                        <td id=\"T_05cc3e5e_5190_11eb_8f30_3ca067df7ae8row1_col9\" class=\"data row1 col9\" >0.0977477</td>\n",
       "            </tr>\n",
       "            <tr>\n",
       "                        <th id=\"T_05cc3e5e_5190_11eb_8f30_3ca067df7ae8level0_row2\" class=\"row_heading level0 row2\" >danceability</th>\n",
       "                        <td id=\"T_05cc3e5e_5190_11eb_8f30_3ca067df7ae8row2_col0\" class=\"data row2 col0\" >0.0494541</td>\n",
       "                        <td id=\"T_05cc3e5e_5190_11eb_8f30_3ca067df7ae8row2_col1\" class=\"data row2 col1\" >-0.0289537</td>\n",
       "                        <td id=\"T_05cc3e5e_5190_11eb_8f30_3ca067df7ae8row2_col2\" class=\"data row2 col2\" >1</td>\n",
       "                        <td id=\"T_05cc3e5e_5190_11eb_8f30_3ca067df7ae8row2_col3\" class=\"data row2 col3\" >-0.242032</td>\n",
       "                        <td id=\"T_05cc3e5e_5190_11eb_8f30_3ca067df7ae8row2_col4\" class=\"data row2 col4\" >-0.255217</td>\n",
       "                        <td id=\"T_05cc3e5e_5190_11eb_8f30_3ca067df7ae8row2_col5\" class=\"data row2 col5\" >-0.106584</td>\n",
       "                        <td id=\"T_05cc3e5e_5190_11eb_8f30_3ca067df7ae8row2_col6\" class=\"data row2 col6\" >0.276206</td>\n",
       "                        <td id=\"T_05cc3e5e_5190_11eb_8f30_3ca067df7ae8row2_col7\" class=\"data row2 col7\" >-0.242089</td>\n",
       "                        <td id=\"T_05cc3e5e_5190_11eb_8f30_3ca067df7ae8row2_col8\" class=\"data row2 col8\" >0.473165</td>\n",
       "                        <td id=\"T_05cc3e5e_5190_11eb_8f30_3ca067df7ae8row2_col9\" class=\"data row2 col9\" >-0.484457</td>\n",
       "            </tr>\n",
       "            <tr>\n",
       "                        <th id=\"T_05cc3e5e_5190_11eb_8f30_3ca067df7ae8level0_row3\" class=\"row_heading level0 row3\" >energy</th>\n",
       "                        <td id=\"T_05cc3e5e_5190_11eb_8f30_3ca067df7ae8row3_col0\" class=\"data row3 col0\" >0.140703</td>\n",
       "                        <td id=\"T_05cc3e5e_5190_11eb_8f30_3ca067df7ae8row3_col1\" class=\"data row3 col1\" >-0.281619</td>\n",
       "                        <td id=\"T_05cc3e5e_5190_11eb_8f30_3ca067df7ae8row3_col2\" class=\"data row3 col2\" >-0.242032</td>\n",
       "                        <td id=\"T_05cc3e5e_5190_11eb_8f30_3ca067df7ae8row3_col3\" class=\"data row3 col3\" >1</td>\n",
       "                        <td id=\"T_05cc3e5e_5190_11eb_8f30_3ca067df7ae8row3_col4\" class=\"data row3 col4\" >0.0282377</td>\n",
       "                        <td id=\"T_05cc3e5e_5190_11eb_8f30_3ca067df7ae8row3_col5\" class=\"data row3 col5\" >0.113331</td>\n",
       "                        <td id=\"T_05cc3e5e_5190_11eb_8f30_3ca067df7ae8row3_col6\" class=\"data row3 col6\" >-0.109983</td>\n",
       "                        <td id=\"T_05cc3e5e_5190_11eb_8f30_3ca067df7ae8row3_col7\" class=\"data row3 col7\" >0.195227</td>\n",
       "                        <td id=\"T_05cc3e5e_5190_11eb_8f30_3ca067df7ae8row3_col8\" class=\"data row3 col8\" >0.0386027</td>\n",
       "                        <td id=\"T_05cc3e5e_5190_11eb_8f30_3ca067df7ae8row3_col9\" class=\"data row3 col9\" >0.12486</td>\n",
       "            </tr>\n",
       "            <tr>\n",
       "                        <th id=\"T_05cc3e5e_5190_11eb_8f30_3ca067df7ae8level0_row4\" class=\"row_heading level0 row4\" >instrumentalness</th>\n",
       "                        <td id=\"T_05cc3e5e_5190_11eb_8f30_3ca067df7ae8row4_col0\" class=\"data row4 col0\" >-0.275623</td>\n",
       "                        <td id=\"T_05cc3e5e_5190_11eb_8f30_3ca067df7ae8row4_col1\" class=\"data row4 col1\" >0.19478</td>\n",
       "                        <td id=\"T_05cc3e5e_5190_11eb_8f30_3ca067df7ae8row4_col2\" class=\"data row4 col2\" >-0.255217</td>\n",
       "                        <td id=\"T_05cc3e5e_5190_11eb_8f30_3ca067df7ae8row4_col3\" class=\"data row4 col3\" >0.0282377</td>\n",
       "                        <td id=\"T_05cc3e5e_5190_11eb_8f30_3ca067df7ae8row4_col4\" class=\"data row4 col4\" >1</td>\n",
       "                        <td id=\"T_05cc3e5e_5190_11eb_8f30_3ca067df7ae8row4_col5\" class=\"data row4 col5\" >-0.0910218</td>\n",
       "                        <td id=\"T_05cc3e5e_5190_11eb_8f30_3ca067df7ae8row4_col6\" class=\"data row4 col6\" >-0.366762</td>\n",
       "                        <td id=\"T_05cc3e5e_5190_11eb_8f30_3ca067df7ae8row4_col7\" class=\"data row4 col7\" >0.022215</td>\n",
       "                        <td id=\"T_05cc3e5e_5190_11eb_8f30_3ca067df7ae8row4_col8\" class=\"data row4 col8\" >-0.219967</td>\n",
       "                        <td id=\"T_05cc3e5e_5190_11eb_8f30_3ca067df7ae8row4_col9\" class=\"data row4 col9\" >0.326037</td>\n",
       "            </tr>\n",
       "            <tr>\n",
       "                        <th id=\"T_05cc3e5e_5190_11eb_8f30_3ca067df7ae8level0_row5\" class=\"row_heading level0 row5\" >liveness</th>\n",
       "                        <td id=\"T_05cc3e5e_5190_11eb_8f30_3ca067df7ae8row5_col0\" class=\"data row5 col0\" >0.0482307</td>\n",
       "                        <td id=\"T_05cc3e5e_5190_11eb_8f30_3ca067df7ae8row5_col1\" class=\"data row5 col1\" >-0.0199914</td>\n",
       "                        <td id=\"T_05cc3e5e_5190_11eb_8f30_3ca067df7ae8row5_col2\" class=\"data row5 col2\" >-0.106584</td>\n",
       "                        <td id=\"T_05cc3e5e_5190_11eb_8f30_3ca067df7ae8row5_col3\" class=\"data row5 col3\" >0.113331</td>\n",
       "                        <td id=\"T_05cc3e5e_5190_11eb_8f30_3ca067df7ae8row5_col4\" class=\"data row5 col4\" >-0.0910218</td>\n",
       "                        <td id=\"T_05cc3e5e_5190_11eb_8f30_3ca067df7ae8row5_col5\" class=\"data row5 col5\" >1</td>\n",
       "                        <td id=\"T_05cc3e5e_5190_11eb_8f30_3ca067df7ae8row5_col6\" class=\"data row5 col6\" >0.0411725</td>\n",
       "                        <td id=\"T_05cc3e5e_5190_11eb_8f30_3ca067df7ae8row5_col7\" class=\"data row5 col7\" >0.00273169</td>\n",
       "                        <td id=\"T_05cc3e5e_5190_11eb_8f30_3ca067df7ae8row5_col8\" class=\"data row5 col8\" >-0.0450931</td>\n",
       "                        <td id=\"T_05cc3e5e_5190_11eb_8f30_3ca067df7ae8row5_col9\" class=\"data row5 col9\" >-0.00706991</td>\n",
       "            </tr>\n",
       "            <tr>\n",
       "                        <th id=\"T_05cc3e5e_5190_11eb_8f30_3ca067df7ae8level0_row6\" class=\"row_heading level0 row6\" >speechiness</th>\n",
       "                        <td id=\"T_05cc3e5e_5190_11eb_8f30_3ca067df7ae8row6_col0\" class=\"data row6 col0\" >-0.0269951</td>\n",
       "                        <td id=\"T_05cc3e5e_5190_11eb_8f30_3ca067df7ae8row6_col1\" class=\"data row6 col1\" >0.072204</td>\n",
       "                        <td id=\"T_05cc3e5e_5190_11eb_8f30_3ca067df7ae8row6_col2\" class=\"data row6 col2\" >0.276206</td>\n",
       "                        <td id=\"T_05cc3e5e_5190_11eb_8f30_3ca067df7ae8row6_col3\" class=\"data row6 col3\" >-0.109983</td>\n",
       "                        <td id=\"T_05cc3e5e_5190_11eb_8f30_3ca067df7ae8row6_col4\" class=\"data row6 col4\" >-0.366762</td>\n",
       "                        <td id=\"T_05cc3e5e_5190_11eb_8f30_3ca067df7ae8row6_col5\" class=\"data row6 col5\" >0.0411725</td>\n",
       "                        <td id=\"T_05cc3e5e_5190_11eb_8f30_3ca067df7ae8row6_col6\" class=\"data row6 col6\" >1</td>\n",
       "                        <td id=\"T_05cc3e5e_5190_11eb_8f30_3ca067df7ae8row6_col7\" class=\"data row6 col7\" >0.00824055</td>\n",
       "                        <td id=\"T_05cc3e5e_5190_11eb_8f30_3ca067df7ae8row6_col8\" class=\"data row6 col8\" >0.149894</td>\n",
       "                        <td id=\"T_05cc3e5e_5190_11eb_8f30_3ca067df7ae8row6_col9\" class=\"data row6 col9\" >-0.496495</td>\n",
       "            </tr>\n",
       "            <tr>\n",
       "                        <th id=\"T_05cc3e5e_5190_11eb_8f30_3ca067df7ae8level0_row7\" class=\"row_heading level0 row7\" >tempo</th>\n",
       "                        <td id=\"T_05cc3e5e_5190_11eb_8f30_3ca067df7ae8row7_col0\" class=\"data row7 col0\" >-0.0253918</td>\n",
       "                        <td id=\"T_05cc3e5e_5190_11eb_8f30_3ca067df7ae8row7_col1\" class=\"data row7 col1\" >-0.0263097</td>\n",
       "                        <td id=\"T_05cc3e5e_5190_11eb_8f30_3ca067df7ae8row7_col2\" class=\"data row7 col2\" >-0.242089</td>\n",
       "                        <td id=\"T_05cc3e5e_5190_11eb_8f30_3ca067df7ae8row7_col3\" class=\"data row7 col3\" >0.195227</td>\n",
       "                        <td id=\"T_05cc3e5e_5190_11eb_8f30_3ca067df7ae8row7_col4\" class=\"data row7 col4\" >0.022215</td>\n",
       "                        <td id=\"T_05cc3e5e_5190_11eb_8f30_3ca067df7ae8row7_col5\" class=\"data row7 col5\" >0.00273169</td>\n",
       "                        <td id=\"T_05cc3e5e_5190_11eb_8f30_3ca067df7ae8row7_col6\" class=\"data row7 col6\" >0.00824055</td>\n",
       "                        <td id=\"T_05cc3e5e_5190_11eb_8f30_3ca067df7ae8row7_col7\" class=\"data row7 col7\" >1</td>\n",
       "                        <td id=\"T_05cc3e5e_5190_11eb_8f30_3ca067df7ae8row7_col8\" class=\"data row7 col8\" >0.0522212</td>\n",
       "                        <td id=\"T_05cc3e5e_5190_11eb_8f30_3ca067df7ae8row7_col9\" class=\"data row7 col9\" >0.114571</td>\n",
       "            </tr>\n",
       "            <tr>\n",
       "                        <th id=\"T_05cc3e5e_5190_11eb_8f30_3ca067df7ae8level0_row8\" class=\"row_heading level0 row8\" >valence</th>\n",
       "                        <td id=\"T_05cc3e5e_5190_11eb_8f30_3ca067df7ae8row8_col0\" class=\"data row8 col0\" >0.0100698</td>\n",
       "                        <td id=\"T_05cc3e5e_5190_11eb_8f30_3ca067df7ae8row8_col1\" class=\"data row8 col1\" >-0.0138406</td>\n",
       "                        <td id=\"T_05cc3e5e_5190_11eb_8f30_3ca067df7ae8row8_col2\" class=\"data row8 col2\" >0.473165</td>\n",
       "                        <td id=\"T_05cc3e5e_5190_11eb_8f30_3ca067df7ae8row8_col3\" class=\"data row8 col3\" >0.0386027</td>\n",
       "                        <td id=\"T_05cc3e5e_5190_11eb_8f30_3ca067df7ae8row8_col4\" class=\"data row8 col4\" >-0.219967</td>\n",
       "                        <td id=\"T_05cc3e5e_5190_11eb_8f30_3ca067df7ae8row8_col5\" class=\"data row8 col5\" >-0.0450931</td>\n",
       "                        <td id=\"T_05cc3e5e_5190_11eb_8f30_3ca067df7ae8row8_col6\" class=\"data row8 col6\" >0.149894</td>\n",
       "                        <td id=\"T_05cc3e5e_5190_11eb_8f30_3ca067df7ae8row8_col7\" class=\"data row8 col7\" >0.0522212</td>\n",
       "                        <td id=\"T_05cc3e5e_5190_11eb_8f30_3ca067df7ae8row8_col8\" class=\"data row8 col8\" >1</td>\n",
       "                        <td id=\"T_05cc3e5e_5190_11eb_8f30_3ca067df7ae8row8_col9\" class=\"data row8 col9\" >-0.246701</td>\n",
       "            </tr>\n",
       "            <tr>\n",
       "                        <th id=\"T_05cc3e5e_5190_11eb_8f30_3ca067df7ae8level0_row9\" class=\"row_heading level0 row9\" >genre_top</th>\n",
       "                        <td id=\"T_05cc3e5e_5190_11eb_8f30_3ca067df7ae8row9_col0\" class=\"data row9 col0\" >-0.00462409</td>\n",
       "                        <td id=\"T_05cc3e5e_5190_11eb_8f30_3ca067df7ae8row9_col1\" class=\"data row9 col1\" >0.0977477</td>\n",
       "                        <td id=\"T_05cc3e5e_5190_11eb_8f30_3ca067df7ae8row9_col2\" class=\"data row9 col2\" >-0.484457</td>\n",
       "                        <td id=\"T_05cc3e5e_5190_11eb_8f30_3ca067df7ae8row9_col3\" class=\"data row9 col3\" >0.12486</td>\n",
       "                        <td id=\"T_05cc3e5e_5190_11eb_8f30_3ca067df7ae8row9_col4\" class=\"data row9 col4\" >0.326037</td>\n",
       "                        <td id=\"T_05cc3e5e_5190_11eb_8f30_3ca067df7ae8row9_col5\" class=\"data row9 col5\" >-0.00706991</td>\n",
       "                        <td id=\"T_05cc3e5e_5190_11eb_8f30_3ca067df7ae8row9_col6\" class=\"data row9 col6\" >-0.496495</td>\n",
       "                        <td id=\"T_05cc3e5e_5190_11eb_8f30_3ca067df7ae8row9_col7\" class=\"data row9 col7\" >0.114571</td>\n",
       "                        <td id=\"T_05cc3e5e_5190_11eb_8f30_3ca067df7ae8row9_col8\" class=\"data row9 col8\" >-0.246701</td>\n",
       "                        <td id=\"T_05cc3e5e_5190_11eb_8f30_3ca067df7ae8row9_col9\" class=\"data row9 col9\" >1</td>\n",
       "            </tr>\n",
       "    </tbody></table>"
      ],
      "text/plain": [
       "<pandas.io.formats.style.Styler at 0x202262bacf8>"
      ]
     },
     "execution_count": 11,
     "metadata": {},
     "output_type": "execute_result"
    }
   ],
   "source": [
    "# Create a correlation matrix\n",
    "corr_metrics = data.corr()\n",
    "corr_metrics.style.background_gradient()"
   ]
  },
  {
   "cell_type": "code",
   "execution_count": 12,
   "metadata": {},
   "outputs": [],
   "source": [
    "features = ['acousticness', 'danceability', 'energy', 'instrumentalness', 'liveness', 'speechiness', 'tempo', 'valence' ]"
   ]
  },
  {
   "cell_type": "code",
   "execution_count": 13,
   "metadata": {},
   "outputs": [
    {
     "data": {
      "text/html": [
       "<div>\n",
       "<style scoped>\n",
       "    .dataframe tbody tr th:only-of-type {\n",
       "        vertical-align: middle;\n",
       "    }\n",
       "\n",
       "    .dataframe tbody tr th {\n",
       "        vertical-align: top;\n",
       "    }\n",
       "\n",
       "    .dataframe thead th {\n",
       "        text-align: right;\n",
       "    }\n",
       "</style>\n",
       "<table border=\"1\" class=\"dataframe\">\n",
       "  <thead>\n",
       "    <tr style=\"text-align: right;\">\n",
       "      <th></th>\n",
       "      <th>acousticness</th>\n",
       "      <th>danceability</th>\n",
       "      <th>energy</th>\n",
       "      <th>instrumentalness</th>\n",
       "      <th>liveness</th>\n",
       "      <th>speechiness</th>\n",
       "      <th>tempo</th>\n",
       "      <th>valence</th>\n",
       "    </tr>\n",
       "  </thead>\n",
       "  <tbody>\n",
       "    <tr>\n",
       "      <th>0</th>\n",
       "      <td>0.416675</td>\n",
       "      <td>0.675894</td>\n",
       "      <td>0.634476</td>\n",
       "      <td>0.010628</td>\n",
       "      <td>0.177647</td>\n",
       "      <td>0.159310</td>\n",
       "      <td>165.922</td>\n",
       "      <td>0.576661</td>\n",
       "    </tr>\n",
       "    <tr>\n",
       "      <th>1</th>\n",
       "      <td>0.374408</td>\n",
       "      <td>0.528643</td>\n",
       "      <td>0.817461</td>\n",
       "      <td>0.001851</td>\n",
       "      <td>0.105880</td>\n",
       "      <td>0.461818</td>\n",
       "      <td>126.957</td>\n",
       "      <td>0.269240</td>\n",
       "    </tr>\n",
       "    <tr>\n",
       "      <th>2</th>\n",
       "      <td>0.977282</td>\n",
       "      <td>0.468808</td>\n",
       "      <td>0.134975</td>\n",
       "      <td>0.687700</td>\n",
       "      <td>0.105381</td>\n",
       "      <td>0.073124</td>\n",
       "      <td>119.646</td>\n",
       "      <td>0.430707</td>\n",
       "    </tr>\n",
       "    <tr>\n",
       "      <th>3</th>\n",
       "      <td>0.953349</td>\n",
       "      <td>0.498525</td>\n",
       "      <td>0.552503</td>\n",
       "      <td>0.924391</td>\n",
       "      <td>0.684914</td>\n",
       "      <td>0.028885</td>\n",
       "      <td>78.958</td>\n",
       "      <td>0.430448</td>\n",
       "    </tr>\n",
       "    <tr>\n",
       "      <th>4</th>\n",
       "      <td>0.613229</td>\n",
       "      <td>0.500320</td>\n",
       "      <td>0.487992</td>\n",
       "      <td>0.936811</td>\n",
       "      <td>0.637750</td>\n",
       "      <td>0.030327</td>\n",
       "      <td>112.667</td>\n",
       "      <td>0.824749</td>\n",
       "    </tr>\n",
       "  </tbody>\n",
       "</table>\n",
       "</div>"
      ],
      "text/plain": [
       "   acousticness  danceability    energy  instrumentalness  liveness  \\\n",
       "0      0.416675      0.675894  0.634476          0.010628  0.177647   \n",
       "1      0.374408      0.528643  0.817461          0.001851  0.105880   \n",
       "2      0.977282      0.468808  0.134975          0.687700  0.105381   \n",
       "3      0.953349      0.498525  0.552503          0.924391  0.684914   \n",
       "4      0.613229      0.500320  0.487992          0.936811  0.637750   \n",
       "\n",
       "   speechiness    tempo   valence  \n",
       "0     0.159310  165.922  0.576661  \n",
       "1     0.461818  126.957  0.269240  \n",
       "2     0.073124  119.646  0.430707  \n",
       "3     0.028885   78.958  0.430448  \n",
       "4     0.030327  112.667  0.824749  "
      ]
     },
     "execution_count": 13,
     "metadata": {},
     "output_type": "execute_result"
    }
   ],
   "source": [
    "data_x = data[features]\n",
    "data_x.head()"
   ]
  },
  {
   "cell_type": "code",
   "execution_count": 14,
   "metadata": {},
   "outputs": [],
   "source": [
    "labels = data['genre_top']"
   ]
  },
  {
   "cell_type": "code",
   "execution_count": 15,
   "metadata": {},
   "outputs": [],
   "source": [
    "from sklearn.preprocessing import StandardScaler"
   ]
  },
  {
   "cell_type": "code",
   "execution_count": 16,
   "metadata": {},
   "outputs": [],
   "source": [
    "scaler = StandardScaler()\n",
    "scaled_train_features = scaler.fit_transform(data_x)"
   ]
  },
  {
   "cell_type": "code",
   "execution_count": 17,
   "metadata": {},
   "outputs": [
    {
     "data": {
      "text/plain": [
       "8"
      ]
     },
     "execution_count": 17,
     "metadata": {},
     "output_type": "execute_result"
    }
   ],
   "source": [
    "len(scaled_train_features[0])"
   ]
  },
  {
   "cell_type": "code",
   "execution_count": 18,
   "metadata": {},
   "outputs": [
    {
     "data": {
      "text/plain": [
       "4802"
      ]
     },
     "execution_count": 18,
     "metadata": {},
     "output_type": "execute_result"
    }
   ],
   "source": [
    "len(scaled_train_features)"
   ]
  },
  {
   "cell_type": "code",
   "execution_count": 19,
   "metadata": {},
   "outputs": [
    {
     "data": {
      "text/html": [
       "<div>\n",
       "<style scoped>\n",
       "    .dataframe tbody tr th:only-of-type {\n",
       "        vertical-align: middle;\n",
       "    }\n",
       "\n",
       "    .dataframe tbody tr th {\n",
       "        vertical-align: top;\n",
       "    }\n",
       "\n",
       "    .dataframe thead th {\n",
       "        text-align: right;\n",
       "    }\n",
       "</style>\n",
       "<table border=\"1\" class=\"dataframe\">\n",
       "  <thead>\n",
       "    <tr style=\"text-align: right;\">\n",
       "      <th></th>\n",
       "      <th>0</th>\n",
       "      <th>1</th>\n",
       "      <th>2</th>\n",
       "      <th>3</th>\n",
       "      <th>4</th>\n",
       "      <th>5</th>\n",
       "      <th>6</th>\n",
       "      <th>7</th>\n",
       "    </tr>\n",
       "  </thead>\n",
       "  <tbody>\n",
       "    <tr>\n",
       "      <th>0</th>\n",
       "      <td>-0.191210</td>\n",
       "      <td>1.304420</td>\n",
       "      <td>0.038316</td>\n",
       "      <td>-1.576494</td>\n",
       "      <td>-0.068755</td>\n",
       "      <td>0.373034</td>\n",
       "      <td>1.153979</td>\n",
       "      <td>0.462287</td>\n",
       "    </tr>\n",
       "    <tr>\n",
       "      <th>1</th>\n",
       "      <td>-0.306036</td>\n",
       "      <td>0.501886</td>\n",
       "      <td>0.788176</td>\n",
       "      <td>-1.599809</td>\n",
       "      <td>-0.545463</td>\n",
       "      <td>2.446155</td>\n",
       "      <td>0.007914</td>\n",
       "      <td>-0.690811</td>\n",
       "    </tr>\n",
       "    <tr>\n",
       "      <th>2</th>\n",
       "      <td>1.331757</td>\n",
       "      <td>0.175777</td>\n",
       "      <td>-2.008607</td>\n",
       "      <td>0.222085</td>\n",
       "      <td>-0.548779</td>\n",
       "      <td>-0.217608</td>\n",
       "      <td>-0.207122</td>\n",
       "      <td>-0.085167</td>\n",
       "    </tr>\n",
       "    <tr>\n",
       "      <th>3</th>\n",
       "      <td>1.266742</td>\n",
       "      <td>0.337737</td>\n",
       "      <td>-0.297606</td>\n",
       "      <td>0.850834</td>\n",
       "      <td>3.300761</td>\n",
       "      <td>-0.520786</td>\n",
       "      <td>-1.403866</td>\n",
       "      <td>-0.086139</td>\n",
       "    </tr>\n",
       "    <tr>\n",
       "      <th>4</th>\n",
       "      <td>0.342755</td>\n",
       "      <td>0.347522</td>\n",
       "      <td>-0.561966</td>\n",
       "      <td>0.883828</td>\n",
       "      <td>2.987475</td>\n",
       "      <td>-0.510901</td>\n",
       "      <td>-0.412394</td>\n",
       "      <td>1.392836</td>\n",
       "    </tr>\n",
       "  </tbody>\n",
       "</table>\n",
       "</div>"
      ],
      "text/plain": [
       "          0         1         2         3         4         5         6  \\\n",
       "0 -0.191210  1.304420  0.038316 -1.576494 -0.068755  0.373034  1.153979   \n",
       "1 -0.306036  0.501886  0.788176 -1.599809 -0.545463  2.446155  0.007914   \n",
       "2  1.331757  0.175777 -2.008607  0.222085 -0.548779 -0.217608 -0.207122   \n",
       "3  1.266742  0.337737 -0.297606  0.850834  3.300761 -0.520786 -1.403866   \n",
       "4  0.342755  0.347522 -0.561966  0.883828  2.987475 -0.510901 -0.412394   \n",
       "\n",
       "          7  \n",
       "0  0.462287  \n",
       "1 -0.690811  \n",
       "2 -0.085167  \n",
       "3 -0.086139  \n",
       "4  1.392836  "
      ]
     },
     "execution_count": 19,
     "metadata": {},
     "output_type": "execute_result"
    }
   ],
   "source": [
    "pd.DataFrame(scaled_train_features).head(5)"
   ]
  },
  {
   "cell_type": "code",
   "execution_count": 20,
   "metadata": {},
   "outputs": [
    {
     "data": {
      "text/plain": [
       "array([0.24297674, 0.18044316, 0.13650309, 0.12994089, 0.11056248,\n",
       "       0.08302245, 0.06923783, 0.04731336])"
      ]
     },
     "execution_count": 20,
     "metadata": {},
     "output_type": "execute_result"
    }
   ],
   "source": [
    "from sklearn.decomposition import PCA\n",
    "# Get our explained variance ratios from PCA using all features\n",
    "pca = PCA()\n",
    "pca.fit(scaled_train_features)\n",
    "exp_variance = pca.explained_variance_ratio_\n",
    "exp_variance"
   ]
  },
  {
   "cell_type": "code",
   "execution_count": 21,
   "metadata": {},
   "outputs": [],
   "source": [
    "import matplotlib.pyplot as plt"
   ]
  },
  {
   "cell_type": "code",
   "execution_count": 22,
   "metadata": {},
   "outputs": [
    {
     "data": {
      "text/plain": [
       "Text(0, 0.5, 'Variance')"
      ]
     },
     "execution_count": 22,
     "metadata": {},
     "output_type": "execute_result"
    },
    {
     "data": {
      "image/png": "[encoded data removed]",
      "text/plain": [
       "<Figure size 432x288 with 1 Axes>"
      ]
     },
     "metadata": {
      "needs_background": "light"
     },
     "output_type": "display_data"
    }
   ],
   "source": [
    "# plot the explained variance using a barplot\n",
    "fig, ax = plt.subplots()\n",
    "ax.bar(range(8), exp_variance)\n",
    "ax.set_xlabel('Principal Component #')\n",
    "ax.set_ylabel('Variance')"
   ]
  },
  {
   "cell_type": "code",
   "execution_count": 23,
   "metadata": {},
   "outputs": [
    {
     "data": {
      "text/plain": [
       "array([0.24297674, 0.4234199 , 0.55992299, 0.68986388, 0.80042636,\n",
       "       0.88344881, 0.95268664, 1.        ])"
      ]
     },
     "execution_count": 23,
     "metadata": {},
     "output_type": "execute_result"
    }
   ],
   "source": [
    "cum_exp_variance = np.cumsum(exp_variance)\n",
    "cum_exp_variance"
   ]
  },
  {
   "cell_type": "code",
   "execution_count": 24,
   "metadata": {},
   "outputs": [
    {
     "data": {
      "text/plain": [
       "<matplotlib.lines.Line2D at 0x20225b9d908>"
      ]
     },
     "execution_count": 24,
     "metadata": {},
     "output_type": "execute_result"
    },
    {
     "data": {
      "image/png": "[encoded data removed]",
      "text/plain": [
       "<Figure size 432x288 with 1 Axes>"
      ]
     },
     "metadata": {
      "needs_background": "light"
     },
     "output_type": "display_data"
    }
   ],
   "source": [
    "plt.plot(cum_exp_variance)\n",
    "plt.axhline(y=0.9, linestyle='--')"
   ]
  },
  {
   "cell_type": "code",
   "execution_count": 25,
   "metadata": {},
   "outputs": [],
   "source": [
    "n_comp = 6\n",
    "# Perform PCA with the chosen number of components and project data onto components\n",
    "pca = PCA(n_comp, random_state=10)\n",
    "pca.fit(scaled_train_features)\n",
    "pca_projection = pca.transform(scaled_train_features)"
   ]
  },
  {
   "cell_type": "code",
   "execution_count": 26,
   "metadata": {},
   "outputs": [
    {
     "data": {
      "text/plain": [
       "6"
      ]
     },
     "execution_count": 26,
     "metadata": {},
     "output_type": "execute_result"
    }
   ],
   "source": [
    "len(pca_projection[0])"
   ]
  },
  {
   "cell_type": "code",
   "execution_count": 27,
   "metadata": {},
   "outputs": [
    {
     "data": {
      "text/plain": [
       "4802"
      ]
     },
     "execution_count": 27,
     "metadata": {},
     "output_type": "execute_result"
    }
   ],
   "source": [
    "len(pca_projection)"
   ]
  },
  {
   "cell_type": "markdown",
   "metadata": {},
   "source": [
    "# Decision Tree Classifier"
   ]
  },
  {
   "cell_type": "code",
   "execution_count": 28,
   "metadata": {},
   "outputs": [],
   "source": [
    "X_train, X_test, y_train, y_test = train_test_split(pca_projection, labels, random_state=10)"
   ]
  },
  {
   "cell_type": "code",
   "execution_count": 29,
   "metadata": {},
   "outputs": [
    {
     "data": {
      "text/plain": [
       "DecisionTreeClassifier(class_weight=None, criterion='gini', max_depth=None,\n",
       "                       max_features=None, max_leaf_nodes=None,\n",
       "                       min_impurity_decrease=0.0, min_impurity_split=None,\n",
       "                       min_samples_leaf=1, min_samples_split=2,\n",
       "                       min_weight_fraction_leaf=0.0, presort=False,\n",
       "                       random_state=10, splitter='best')"
      ]
     },
     "execution_count": 29,
     "metadata": {},
     "output_type": "execute_result"
    }
   ],
   "source": [
    "model_tree = DecisionTreeClassifier(random_state=10)\n",
    "model_tree.fit(X_train, y_train)"
   ]
  },
  {
   "cell_type": "code",
   "execution_count": 30,
   "metadata": {},
   "outputs": [],
   "source": [
    "pred = model_tree.predict(X_test)"
   ]
  },
  {
   "cell_type": "code",
   "execution_count": 31,
   "metadata": {},
   "outputs": [
    {
     "data": {
      "text/plain": [
       "1201"
      ]
     },
     "execution_count": 31,
     "metadata": {},
     "output_type": "execute_result"
    }
   ],
   "source": [
    "len(pred)"
   ]
  },
  {
   "cell_type": "code",
   "execution_count": 32,
   "metadata": {},
   "outputs": [
    {
     "data": {
      "text/plain": [
       "0.8709408825978351"
      ]
     },
     "execution_count": 32,
     "metadata": {},
     "output_type": "execute_result"
    }
   ],
   "source": [
    "accuracy_score(y_true = y_test, y_pred = pred)"
   ]
  },
  {
   "cell_type": "code",
   "execution_count": 33,
   "metadata": {},
   "outputs": [],
   "source": [
    "from sklearn.metrics import classification_report\n",
    "tree_report = classification_report(y_test, pred)"
   ]
  },
  {
   "cell_type": "code",
   "execution_count": 34,
   "metadata": {},
   "outputs": [
    {
     "name": "stdout",
     "output_type": "stream",
     "text": [
      "Decision Tree: \n",
      "               precision    recall  f1-score   support\n",
      "\n",
      "           0       0.66      0.66      0.66       229\n",
      "           1       0.92      0.92      0.92       972\n",
      "\n",
      "    accuracy                           0.87      1201\n",
      "   macro avg       0.79      0.79      0.79      1201\n",
      "weighted avg       0.87      0.87      0.87      1201\n",
      "\n"
     ]
    }
   ],
   "source": [
    "print(\"Decision Tree: \\n\", tree_report)"
   ]
  },
  {
   "cell_type": "markdown",
   "metadata": {},
   "source": [
    "# Logistic Regression"
   ]
  },
  {
   "cell_type": "code",
   "execution_count": 35,
   "metadata": {},
   "outputs": [],
   "source": [
    "from sklearn.linear_model import LogisticRegression"
   ]
  },
  {
   "cell_type": "code",
   "execution_count": 36,
   "metadata": {},
   "outputs": [
    {
     "name": "stderr",
     "output_type": "stream",
     "text": [
      "C:\\Users\\Hp\\Anaconda3\\lib\\site-packages\\sklearn\\linear_model\\logistic.py:432: FutureWarning: Default solver will be changed to 'lbfgs' in 0.22. Specify a solver to silence this warning.\n",
      "  FutureWarning)\n"
     ]
    },
    {
     "data": {
      "text/plain": [
       "LogisticRegression(C=1.0, class_weight=None, dual=False, fit_intercept=True,\n",
       "                   intercept_scaling=1, l1_ratio=None, max_iter=100,\n",
       "                   multi_class='warn', n_jobs=None, penalty='l2',\n",
       "                   random_state=10, solver='warn', tol=0.0001, verbose=0,\n",
       "                   warm_start=False)"
      ]
     },
     "execution_count": 36,
     "metadata": {},
     "output_type": "execute_result"
    }
   ],
   "source": [
    "Lreg_model = LogisticRegression(random_state=10)\n",
    "Lreg_model.fit(X_train, y_train)"
   ]
  },
  {
   "cell_type": "code",
   "execution_count": 37,
   "metadata": {},
   "outputs": [],
   "source": [
    "pred_Lreg = Lreg_model.predict(X_test)"
   ]
  },
  {
   "cell_type": "code",
   "execution_count": 38,
   "metadata": {},
   "outputs": [
    {
     "data": {
      "text/plain": [
       "0.880932556203164"
      ]
     },
     "execution_count": 38,
     "metadata": {},
     "output_type": "execute_result"
    }
   ],
   "source": [
    "accuracy_score(y_true=y_test, y_pred=pred_Lreg)"
   ]
  },
  {
   "cell_type": "code",
   "execution_count": 39,
   "metadata": {},
   "outputs": [
    {
     "name": "stdout",
     "output_type": "stream",
     "text": [
      "               precision    recall  f1-score   support\n",
      "\n",
      "           0       0.75      0.57      0.65       229\n",
      "           1       0.90      0.95      0.93       972\n",
      "\n",
      "    accuracy                           0.88      1201\n",
      "   macro avg       0.83      0.76      0.79      1201\n",
      "weighted avg       0.87      0.88      0.87      1201\n",
      "\n"
     ]
    }
   ],
   "source": [
    "Lreg_report = classification_report(y_test, pred_Lreg)\n",
    "print(\"\", Lreg_report)"
   ]
  },
  {
   "cell_type": "markdown",
   "metadata": {},
   "source": [
    "# Without PCA And Using Tree"
   ]
  },
  {
   "cell_type": "code",
   "execution_count": 40,
   "metadata": {},
   "outputs": [],
   "source": [
    "X_train_p, X_test_p, y_train_p, y_test_p = train_test_split(data_x, labels, random_state=10)"
   ]
  },
  {
   "cell_type": "code",
   "execution_count": 41,
   "metadata": {},
   "outputs": [
    {
     "data": {
      "text/plain": [
       "DecisionTreeClassifier(class_weight=None, criterion='gini', max_depth=None,\n",
       "                       max_features=None, max_leaf_nodes=None,\n",
       "                       min_impurity_decrease=0.0, min_impurity_split=None,\n",
       "                       min_samples_leaf=1, min_samples_split=2,\n",
       "                       min_weight_fraction_leaf=0.0, presort=False,\n",
       "                       random_state=10, splitter='best')"
      ]
     },
     "execution_count": 41,
     "metadata": {},
     "output_type": "execute_result"
    }
   ],
   "source": [
    "model_tree_p = DecisionTreeClassifier(random_state=10)\n",
    "model_tree_p.fit(X_train_p, y_train_p)"
   ]
  },
  {
   "cell_type": "code",
   "execution_count": 42,
   "metadata": {},
   "outputs": [],
   "source": [
    "pred_p = model_tree_p.predict(X_test_p)"
   ]
  },
  {
   "cell_type": "code",
   "execution_count": 43,
   "metadata": {},
   "outputs": [
    {
     "data": {
      "text/plain": [
       "0.8950874271440467"
      ]
     },
     "execution_count": 43,
     "metadata": {},
     "output_type": "execute_result"
    }
   ],
   "source": [
    "accuracy_score(y_true = y_test_p, y_pred = pred_p)"
   ]
  },
  {
   "cell_type": "code",
   "execution_count": 44,
   "metadata": {},
   "outputs": [
    {
     "name": "stdout",
     "output_type": "stream",
     "text": [
      "Without_pca: \n",
      "               precision    recall  f1-score   support\n",
      "\n",
      "           0       0.72      0.73      0.73       229\n",
      "           1       0.94      0.93      0.94       972\n",
      "\n",
      "    accuracy                           0.90      1201\n",
      "   macro avg       0.83      0.83      0.83      1201\n",
      "weighted avg       0.90      0.90      0.90      1201\n",
      "\n"
     ]
    }
   ],
   "source": [
    "w_pca_report = classification_report(y_test_p, pred_p)\n",
    "print(\"Without_pca: \\n\", w_pca_report)"
   ]
  },
  {
   "cell_type": "markdown",
   "metadata": {},
   "source": [
    "# Without Pca and Using Regression"
   ]
  },
  {
   "cell_type": "code",
   "execution_count": 45,
   "metadata": {},
   "outputs": [],
   "source": [
    "X_train_l, X_test_l, y_train_l, y_test_l = train_test_split(data_x, labels, random_state=10)"
   ]
  },
  {
   "cell_type": "code",
   "execution_count": 46,
   "metadata": {},
   "outputs": [],
   "source": [
    "Lreg_model_l = LogisticRegression(random_state = 10)"
   ]
  },
  {
   "cell_type": "code",
   "execution_count": 47,
   "metadata": {},
   "outputs": [
    {
     "name": "stderr",
     "output_type": "stream",
     "text": [
      "C:\\Users\\Hp\\Anaconda3\\lib\\site-packages\\sklearn\\linear_model\\logistic.py:432: FutureWarning: Default solver will be changed to 'lbfgs' in 0.22. Specify a solver to silence this warning.\n",
      "  FutureWarning)\n"
     ]
    },
    {
     "data": {
      "text/plain": [
       "LogisticRegression(C=1.0, class_weight=None, dual=False, fit_intercept=True,\n",
       "                   intercept_scaling=1, l1_ratio=None, max_iter=100,\n",
       "                   multi_class='warn', n_jobs=None, penalty='l2',\n",
       "                   random_state=10, solver='warn', tol=0.0001, verbose=0,\n",
       "                   warm_start=False)"
      ]
     },
     "execution_count": 47,
     "metadata": {},
     "output_type": "execute_result"
    }
   ],
   "source": [
    "Lreg_model_l.fit(X_train_l, y_train_l)"
   ]
  },
  {
   "cell_type": "code",
   "execution_count": 48,
   "metadata": {},
   "outputs": [],
   "source": [
    "pred_l = Lreg_model_l.predict(X_test_l)"
   ]
  },
  {
   "cell_type": "code",
   "execution_count": 49,
   "metadata": {},
   "outputs": [
    {
     "data": {
      "text/plain": [
       "0.8892589508742714"
      ]
     },
     "execution_count": 49,
     "metadata": {},
     "output_type": "execute_result"
    }
   ],
   "source": [
    "accuracy_score(y_true=y_test_l, y_pred=pred_l)"
   ]
  },
  {
   "cell_type": "code",
   "execution_count": 50,
   "metadata": {},
   "outputs": [
    {
     "name": "stdout",
     "output_type": "stream",
     "text": [
      "Without_pca and Regression: \n",
      "               precision    recall  f1-score   support\n",
      "\n",
      "           0       0.72      0.73      0.73       229\n",
      "           1       0.94      0.93      0.94       972\n",
      "\n",
      "    accuracy                           0.90      1201\n",
      "   macro avg       0.83      0.83      0.83      1201\n",
      "weighted avg       0.90      0.90      0.90      1201\n",
      "\n"
     ]
    }
   ],
   "source": [
    "w_pca_report_l = classification_report(y_test_p, pred_p)\n",
    "print(\"Without_pca and Regression: \\n\", w_pca_report_l)"
   ]
  },
  {
   "cell_type": "markdown",
   "metadata": {},
   "source": [
    "# Balancing\n",
    "\n",
    "<i>We can see that the precision for prediction of Rock genre is pretty high but the precision for Hip-Hop genre is low as compared to Rock. So we will try to balance the data to make sure the precision for predicting both the categories is pretty much the same</i>"
   ]
  },
  {
   "cell_type": "code",
   "execution_count": 54,
   "metadata": {},
   "outputs": [],
   "source": [
    "hop_only = data.loc[data[\"genre_top\"] == 0]"
   ]
  },
  {
   "cell_type": "code",
   "execution_count": 56,
   "metadata": {},
   "outputs": [],
   "source": [
    "rock_only = data.loc[data[\"genre_top\"] == 1].sample(len(hop_only), random_state=10)"
   ]
  },
  {
   "cell_type": "code",
   "execution_count": 58,
   "metadata": {},
   "outputs": [],
   "source": [
    "b_data = pd.concat([rock_only, hop_only])"
   ]
  },
  {
   "cell_type": "code",
   "execution_count": 61,
   "metadata": {},
   "outputs": [],
   "source": [
    "b_data_x = b_data[features]\n",
    "b_labels = b_data[\"genre_top\"]"
   ]
  },
  {
   "cell_type": "code",
   "execution_count": 63,
   "metadata": {},
   "outputs": [
    {
     "data": {
      "text/plain": [
       "array([[ 0.82033812,  0.32712703, -1.66822844,  0.58030623, -0.61416288,\n",
       "        -0.3560381 ],\n",
       "       [-2.13573793,  0.88098724,  1.34538768,  2.45567554,  1.0669125 ,\n",
       "        -1.40129148],\n",
       "       [-3.24374193,  0.60462329,  2.27685318, -1.15741106, -0.04261633,\n",
       "        -0.51753222],\n",
       "       ...,\n",
       "       [ 2.38516199, -0.75860297, -1.09732784, -0.02426702,  0.12914544,\n",
       "         0.12640233],\n",
       "       [ 3.1052004 , -0.50492689,  3.16315064, -0.97705932, -1.71258342,\n",
       "         0.68748989],\n",
       "       [ 3.54057207, -0.47773479,  2.4559007 ,  1.32687085, -0.83043729,\n",
       "        -0.13855526]])"
      ]
     },
     "execution_count": 63,
     "metadata": {},
     "output_type": "execute_result"
    }
   ],
   "source": [
    "pca_projection_b = pca.fit_transform(scaler.fit_transform(b_data_x))\n",
    "pca_projection_b"
   ]
  },
  {
   "cell_type": "code",
   "execution_count": 64,
   "metadata": {},
   "outputs": [],
   "source": [
    "b_X_train, b_X_test, b_y_train, b_y_test = train_test_split(pca_projection_b, b_labels, random_state=10)"
   ]
  },
  {
   "cell_type": "code",
   "execution_count": 65,
   "metadata": {},
   "outputs": [
    {
     "data": {
      "text/plain": [
       "DecisionTreeClassifier(class_weight=None, criterion='gini', max_depth=None,\n",
       "                       max_features=None, max_leaf_nodes=None,\n",
       "                       min_impurity_decrease=0.0, min_impurity_split=None,\n",
       "                       min_samples_leaf=1, min_samples_split=2,\n",
       "                       min_weight_fraction_leaf=0.0, presort=False,\n",
       "                       random_state=10, splitter='best')"
      ]
     },
     "execution_count": 65,
     "metadata": {},
     "output_type": "execute_result"
    }
   ],
   "source": [
    "# Creating a tree\n",
    "b_tree = DecisionTreeClassifier(random_state=10)\n",
    "b_tree.fit(b_X_train, b_y_train)"
   ]
  },
  {
   "cell_type": "code",
   "execution_count": 66,
   "metadata": {},
   "outputs": [],
   "source": [
    "b_pred = b_tree.predict(b_X_test)"
   ]
  },
  {
   "cell_type": "code",
   "execution_count": 67,
   "metadata": {},
   "outputs": [
    {
     "name": "stdout",
     "output_type": "stream",
     "text": [
      "Decision Tree: \n",
      "               precision    recall  f1-score   support\n",
      "\n",
      "           0       0.77      0.77      0.77       230\n",
      "           1       0.76      0.76      0.76       225\n",
      "\n",
      "    accuracy                           0.76       455\n",
      "   macro avg       0.76      0.76      0.76       455\n",
      "weighted avg       0.76      0.76      0.76       455\n",
      "\n"
     ]
    }
   ],
   "source": [
    "print(\"Decision Tree: \\n\", classification_report(b_y_test, b_pred))"
   ]
  },
  {
   "cell_type": "code",
   "execution_count": 68,
   "metadata": {},
   "outputs": [
    {
     "name": "stderr",
     "output_type": "stream",
     "text": [
      "C:\\Users\\Hp\\Anaconda3\\lib\\site-packages\\sklearn\\linear_model\\logistic.py:432: FutureWarning: Default solver will be changed to 'lbfgs' in 0.22. Specify a solver to silence this warning.\n",
      "  FutureWarning)\n"
     ]
    },
    {
     "data": {
      "text/plain": [
       "LogisticRegression(C=1.0, class_weight=None, dual=False, fit_intercept=True,\n",
       "                   intercept_scaling=1, l1_ratio=None, max_iter=100,\n",
       "                   multi_class='warn', n_jobs=None, penalty='l2',\n",
       "                   random_state=10, solver='warn', tol=0.0001, verbose=0,\n",
       "                   warm_start=False)"
      ]
     },
     "execution_count": 68,
     "metadata": {},
     "output_type": "execute_result"
    }
   ],
   "source": [
    "# Using Regression\n",
    "b_reg = LogisticRegression(random_state=10)\n",
    "b_reg.fit(b_X_train, b_y_train)"
   ]
  },
  {
   "cell_type": "code",
   "execution_count": 69,
   "metadata": {},
   "outputs": [],
   "source": [
    "b_reg_pred = b_reg.predict(b_X_test)"
   ]
  },
  {
   "cell_type": "code",
   "execution_count": 70,
   "metadata": {},
   "outputs": [
    {
     "name": "stdout",
     "output_type": "stream",
     "text": [
      "Regression: \n",
      "               precision    recall  f1-score   support\n",
      "\n",
      "           0       0.82      0.83      0.82       230\n",
      "           1       0.82      0.81      0.82       225\n",
      "\n",
      "    accuracy                           0.82       455\n",
      "   macro avg       0.82      0.82      0.82       455\n",
      "weighted avg       0.82      0.82      0.82       455\n",
      "\n"
     ]
    }
   ],
   "source": [
    "print(\"Regression: \\n\", classification_report(b_y_test, b_reg_pred))"
   ]
  },
  {
   "cell_type": "markdown",
   "metadata": {},
   "source": [
    "# Cross Validation"
   ]
  },
  {
   "cell_type": "code",
   "execution_count": 71,
   "metadata": {},
   "outputs": [],
   "source": [
    "from sklearn.model_selection import KFold, cross_val_score"
   ]
  },
  {
   "cell_type": "code",
   "execution_count": 82,
   "metadata": {},
   "outputs": [],
   "source": [
    "# Set up our K-fold cross-validation\n",
    "kf = KFold(n_splits=12, random_state=10)"
   ]
  },
  {
   "cell_type": "code",
   "execution_count": 83,
   "metadata": {},
   "outputs": [],
   "source": [
    "tree_v = DecisionTreeClassifier(random_state=10)\n",
    "logreg_v = LogisticRegression(random_state=10)"
   ]
  },
  {
   "cell_type": "code",
   "execution_count": 84,
   "metadata": {
    "collapsed": true
   },
   "outputs": [
    {
     "name": "stderr",
     "output_type": "stream",
     "text": [
      "C:\\Users\\Hp\\Anaconda3\\lib\\site-packages\\sklearn\\linear_model\\logistic.py:432: FutureWarning: Default solver will be changed to 'lbfgs' in 0.22. Specify a solver to silence this warning.\n",
      "  FutureWarning)\n",
      "C:\\Users\\Hp\\Anaconda3\\lib\\site-packages\\sklearn\\linear_model\\logistic.py:432: FutureWarning: Default solver will be changed to 'lbfgs' in 0.22. Specify a solver to silence this warning.\n",
      "  FutureWarning)\n",
      "C:\\Users\\Hp\\Anaconda3\\lib\\site-packages\\sklearn\\linear_model\\logistic.py:432: FutureWarning: Default solver will be changed to 'lbfgs' in 0.22. Specify a solver to silence this warning.\n",
      "  FutureWarning)\n",
      "C:\\Users\\Hp\\Anaconda3\\lib\\site-packages\\sklearn\\linear_model\\logistic.py:432: FutureWarning: Default solver will be changed to 'lbfgs' in 0.22. Specify a solver to silence this warning.\n",
      "  FutureWarning)\n",
      "C:\\Users\\Hp\\Anaconda3\\lib\\site-packages\\sklearn\\linear_model\\logistic.py:432: FutureWarning: Default solver will be changed to 'lbfgs' in 0.22. Specify a solver to silence this warning.\n",
      "  FutureWarning)\n",
      "C:\\Users\\Hp\\Anaconda3\\lib\\site-packages\\sklearn\\linear_model\\logistic.py:432: FutureWarning: Default solver will be changed to 'lbfgs' in 0.22. Specify a solver to silence this warning.\n",
      "  FutureWarning)\n",
      "C:\\Users\\Hp\\Anaconda3\\lib\\site-packages\\sklearn\\linear_model\\logistic.py:432: FutureWarning: Default solver will be changed to 'lbfgs' in 0.22. Specify a solver to silence this warning.\n",
      "  FutureWarning)\n",
      "C:\\Users\\Hp\\Anaconda3\\lib\\site-packages\\sklearn\\linear_model\\logistic.py:432: FutureWarning: Default solver will be changed to 'lbfgs' in 0.22. Specify a solver to silence this warning.\n",
      "  FutureWarning)\n",
      "C:\\Users\\Hp\\Anaconda3\\lib\\site-packages\\sklearn\\linear_model\\logistic.py:432: FutureWarning: Default solver will be changed to 'lbfgs' in 0.22. Specify a solver to silence this warning.\n",
      "  FutureWarning)\n",
      "C:\\Users\\Hp\\Anaconda3\\lib\\site-packages\\sklearn\\linear_model\\logistic.py:432: FutureWarning: Default solver will be changed to 'lbfgs' in 0.22. Specify a solver to silence this warning.\n",
      "  FutureWarning)\n",
      "C:\\Users\\Hp\\Anaconda3\\lib\\site-packages\\sklearn\\linear_model\\logistic.py:432: FutureWarning: Default solver will be changed to 'lbfgs' in 0.22. Specify a solver to silence this warning.\n",
      "  FutureWarning)\n",
      "C:\\Users\\Hp\\Anaconda3\\lib\\site-packages\\sklearn\\linear_model\\logistic.py:432: FutureWarning: Default solver will be changed to 'lbfgs' in 0.22. Specify a solver to silence this warning.\n",
      "  FutureWarning)\n"
     ]
    }
   ],
   "source": [
    "# Train our models using KFold cv\n",
    "tree_score = cross_val_score(tree_v, pca_projection, labels, cv=kf)\n",
    "logit_score = cross_val_score(logreg_v, pca_projection, labels, cv=kf)"
   ]
  },
  {
   "cell_type": "code",
   "execution_count": 87,
   "metadata": {},
   "outputs": [
    {
     "name": "stdout",
     "output_type": "stream",
     "text": [
      "[0.89526185 0.83291771 0.81       0.8775     0.8725     0.7325\n",
      " 0.8125     0.8475     0.8575     0.9025     0.855      0.855     ]\n",
      "[0.9201995  0.88528678 0.83       0.9425     0.93       0.715\n",
      " 0.825      0.865      0.8775     0.8775     0.8925     0.8675    ]\n"
     ]
    }
   ],
   "source": [
    "print(tree_score)\n",
    "print(logit_score)"
   ]
  },
  {
   "cell_type": "code",
   "execution_count": 86,
   "metadata": {},
   "outputs": [
    {
     "name": "stdout",
     "output_type": "stream",
     "text": [
      "Decision Tree: 0.8458899625935162 Logistic Regression: 0.8689988570241063\n"
     ]
    }
   ],
   "source": [
    "# Print the mean of each array of scores\n",
    "print(\"Decision Tree:\", np.mean(tree_score), \"Logistic Regression:\", np.mean(logit_score))"
   ]
  },
  {
   "cell_type": "markdown",
   "metadata": {},
   "source": [
    "<i>It is clear from the above models that Logistic Regression performs better than the decision tree classifier.</i>"
   ]
  }
 ],
 "metadata": {
  "kernelspec": {
   "display_name": "Python 3",
   "language": "python",
   "name": "python3"
  },
  "language_info": {
   "codemirror_mode": {
    "name": "ipython",
    "version": 3
   },
   "file_extension": ".py",
   "mimetype": "text/x-python",
   "name": "python",
   "nbconvert_exporter": "python",
   "pygments_lexer": "ipython3",
   "version": "3.7.3"
  }
 },
 "nbformat": 4,
 "nbformat_minor": 2
}
